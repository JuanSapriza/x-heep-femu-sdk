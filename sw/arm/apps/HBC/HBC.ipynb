{
 "cells": [
  {
   "cell_type": "markdown",
   "id": "9a4c49a0",
   "metadata": {},
   "source": [
    "# Heart Beat Classifier\n",
    "---\n"
   ]
  },
  {
   "cell_type": "code",
   "execution_count": 5,
   "id": "20d9bb59",
   "metadata": {},
   "outputs": [
    {
     "name": "stderr",
     "output_type": "stream",
     "text": [
      "/tmp/ipykernel_801/1343266843.py:55: UserWarning: Creating legend with loc=\"best\" can be slow with large amounts of data.\n",
      "  plt.tight_layout()\n",
      "/usr/local/share/pynq-venv/lib/python3.10/site-packages/IPython/core/pylabtools.py:151: UserWarning: Creating legend with loc=\"best\" can be slow with large amounts of data.\n",
      "  fig.canvas.print_figure(bytes_io, **kw)\n"
     ]
    }
   ],
   "source": [
    "import matplotlib.pyplot as plt\n",
    "import numpy as np\n",
    "\n",
    "# Path to the MIT-BIH dataset directory\n",
    "SDK_PATH        = \"/home/xilinx/x-heep-femu-sdk/\"\n",
    "RISCV_PATH      = 'sw/riscv/'\n",
    "APP_PATH        = SDK_PATH + RISCV_PATH + 'apps/HBC/'\n",
    "NB_PATH         = SDK_PATH + 'sw/arm/apps/HBC/'     # Path to this notebook\n",
    "mit_bih_dir = NB_PATH + 'data/'\n",
    "\n",
    "# Record name (for example, '100' for the first record)\n",
    "record_name = '100'\n",
    "\n",
    "# Load ECG signal from .dat file\n",
    "with open(mit_bih_dir + record_name + '.dat', 'rb') as f:\n",
    "    ecg_data = np.fromfile(f, dtype=np.int16)\n",
    "\n",
    "# Load annotation data from .atr file\n",
    "with open(mit_bih_dir + record_name + '.atr', 'rb') as f:\n",
    "    annotation_bytes = f.read()\n",
    "\n",
    "# Convert bytes to string\n",
    "annotation_str = annotation_bytes.decode('latin-1')\n",
    "\n",
    "# Split the annotation string by newline character\n",
    "annotation_lines = annotation_str.split('\\n')\n",
    "\n",
    "# Extract annotation samples\n",
    "annotation_samples = []\n",
    "for line in annotation_lines:\n",
    "    fields = line.split(' ')\n",
    "    if len(fields) >= 2 and fields[1].isdigit():\n",
    "        sample = int(fields[1])\n",
    "        annotation_samples.append(sample)\n",
    "\n",
    "# Sampling frequency of the MIT-BIH dataset (typically 360 Hz)\n",
    "sampling_freq = 360\n",
    "\n",
    "# Create a time axis for the signal\n",
    "time_axis = np.arange(len(ecg_data)) / sampling_freq\n",
    "\n",
    "# Plot the ECG signal\n",
    "plt.figure(figsize=(12, 6))\n",
    "plt.plot(time_axis, ecg_data, label='ECG Signal', color='b')\n",
    "plt.xlabel('Time (s)')\n",
    "plt.ylabel('Amplitude')\n",
    "plt.title('ECG Signal')\n",
    "plt.grid(True)\n",
    "\n",
    "# Plot annotations on the ECG signal\n",
    "for sample in annotation_samples:\n",
    "    plt.axvline(x=sample / sampling_freq, color='r', linestyle='--', linewidth=0.8)\n",
    "\n",
    "plt.legend(loc='upper right')\n",
    "plt.tight_layout()\n",
    "plt.show()\n"
   ]
  },
  {
   "cell_type": "markdown",
   "id": "2fd59f4a",
   "metadata": {},
   "source": [
    "## Load the bitstream into the Programmable Logic"
   ]
  },
  {
   "cell_type": "code",
   "execution_count": null,
   "id": "130811ea",
   "metadata": {
    "scrolled": true
   },
   "outputs": [
    {
     "ename": "",
     "evalue": "",
     "output_type": "error",
     "traceback": [
      "\u001b[1;31mFailed to connect to the remote Jupyter Server 'http://128.178.39.90:9090/'. Verify the server is running and reachable. (Failed to connect to the remote Jupyter Server 'http://128.178.39.90:9090/'. Verify the server is running and reachable. (request to http://128.178.39.90:9090/api/kernels?1709043825345 failed, reason: connect ECONNREFUSED 128.178.39.90:9090).)."
     ]
    }
   ],
   "source": [
    "%reload_ext autoreload\n",
    "%autoreload 2\n",
    "# Import the X-HEEP Python class\n",
    "from pynq import x_heep\n",
    "# Allow the import of all modules in this directory\n",
    "import sys\n",
    "import os\n",
    "\n",
    "SDK_PATH = \"/home/xilinx/x-heep-femu-sdk/\"\n",
    "RISCV_PATH = 'sw/riscv/'\n",
    "APP_PATH = SDK_PATH + RISCV_PATH + 'apps/HBC/'\n",
    "NB_PATH         = SDK_PATH + 'arm/apps/HBC/'     # Path to this notebook\n",
    "# ADC_BIN_NAME = 'adc_in'\n",
    "\n",
    "sys.path.append(SDK_PATH + \"sw/arm/apps/HBC\")\n",
    "\n",
    "# from timeseries import *\n",
    "# from report import *\n",
    "\n",
    "# Load the X-HEEP bitstream\n",
    "xh = x_heep()\n",
    "\n",
    "print(\"Bitstream loaded\")"
   ]
  },
  {
   "cell_type": "markdown",
   "id": "b693f119",
   "metadata": {},
   "source": [
    "## Compile the code and run the application\n",
    "\n",
    "You can change the variable `VERBOSE`       to 0 to supress the live printing of the UART."
   ]
  },
  {
   "cell_type": "code",
   "execution_count": null,
   "id": "37d96249",
   "metadata": {},
   "outputs": [
    {
     "ename": "",
     "evalue": "",
     "output_type": "error",
     "traceback": [
      "\u001b[1;31mFailed to connect to the remote Jupyter Server 'http://128.178.39.90:9090/'. Verify the server is running and reachable. (Failed to connect to the remote Jupyter Server 'http://128.178.39.90:9090/'. Verify the server is running and reachable. (request to http://128.178.39.90:9090/api/kernels?1709043825345 failed, reason: connect ECONNREFUSED 128.178.39.90:9090).)."
     ]
    }
   ],
   "source": [
    "import time\n",
    "import math\n",
    "# Wether to see the X-HEEP UART output live.\n",
    "VERBOSE         = 0\n",
    "# Enable the printfs inside X-HEEP application. This is not the same as VERBOSE, as it actually reflects in C-code and therefore in performance.\n",
    "ENABLE_PRINTF   = 1\n",
    "\n",
    "# Application data\n",
    "SUBJECT = 2\n",
    "ECG_VECTOR_SIZE = 15000 # Number of samples per lead\n",
    "RMS_NLEADS         = 3 # ADC Channels\n",
    "SAMPLE_FREQ        = 250 # (Hz)\n",
    "data_file_name = f\"/home/xilinx/x-heep-femu-sdk/sw/arm/apps/HBC/data/ecg_3l_{SUBJECT}.bin\"\n",
    "\n",
    "# Define some standards to parse the X-HEEP output\n",
    "OUTPUT_START_SEQ    = \"# \"\n",
    "OUTPUT_DIVIDER      = \"|\"\n",
    "OUTPUT_END_SEQ      = \"#---\"\n",
    "\n",
    "# Write the definitions header file to share information with the C code\n",
    "defs = APP_PATH + 'definitions.h'\n",
    "xh.open_definitions (defs, \"DEFINITIONS\")\n",
    "xh.add_definition   (defs, \"ENABLE_PRINTF\",     ENABLE_PRINTF)\n",
    "xh.add_definition   (defs, \"OUTPUT_START_SEQ\",  OUTPUT_START_SEQ)\n",
    "xh.add_definition   (defs, \"OUTPUT_DIVIDER\",    OUTPUT_DIVIDER)\n",
    "xh.add_definition   (defs, \"OUTPUT_END_SEQ\",    OUTPUT_END_SEQ)\n",
    "xh.add_definition   (defs, \"ECG_VECTOR_SIZE\",    ECG_VECTOR_SIZE)\n",
    "xh.add_definition   (defs, \"SUBJECT\",    SUBJECT + 1)\n",
    "xh.close_definitions (defs)\n",
    "\n",
    "# Compile the application\n",
    "xh.compile_app(\"HBC\")\n",
    "print(\"Compilation complete!\")\n"
   ]
  },
  {
   "cell_type": "code",
   "execution_count": null,
   "id": "9dbcaf9b",
   "metadata": {},
   "outputs": [
    {
     "ename": "",
     "evalue": "",
     "output_type": "error",
     "traceback": [
      "\u001b[1;31mFailed to connect to the remote Jupyter Server 'http://128.178.39.90:9090/'. Verify the server is running and reachable. (Failed to connect to the remote Jupyter Server 'http://128.178.39.90:9090/'. Verify the server is running and reachable. (request to http://128.178.39.90:9090/api/kernels?1709043825345 failed, reason: connect ECONNREFUSED 128.178.39.90:9090).)."
     ]
    }
   ],
   "source": [
    "# Start a background thread that reads from the Virtual ADC\n",
    "ddr_thread, ddr_sf = xh.virtual_adc_thread_start(data_file_name)\n",
    "\n",
    "# Start a background thread that reads from the UART\n",
    "t, sf = xh.thread_start(VERBOSE)\n",
    "\n",
    "# Set the performance counters\n",
    "perf_cnt = xh.init_perf_cnt()       # Init the performance counters\n",
    "xh.reset_perf_cnt(perf_cnt)         # Reset the performance counters\n",
    "xh.start_perf_cnt_manual(perf_cnt)  # Start the performance counters\n",
    "\n",
    "time.sleep(3)\n",
    "\n",
    "out, _ = xh.run_app()               # Run the application (disregarding the error output)\n",
    "\n",
    "# Finish\n",
    "xh.stop_perf_cnt(perf_cnt)          # Stop the performance counters\n",
    "xh.thread_stop(t, sf)               # Stop the background thread that reads from the UART\n",
    "xh.thread_stop(ddr_thread, ddr_sf)  # Stop the ddr circular buffer controller\n",
    "\n",
    "xh.uart_data"
   ]
  },
  {
   "cell_type": "markdown",
   "id": "3e09781e",
   "metadata": {},
   "source": [
    "## Correctness against golden reference"
   ]
  },
  {
   "cell_type": "code",
   "execution_count": null,
   "id": "2d0b1324",
   "metadata": {},
   "outputs": [
    {
     "ename": "",
     "evalue": "",
     "output_type": "error",
     "traceback": [
      "\u001b[1;31mFailed to connect to the remote Jupyter Server 'http://128.178.39.90:9090/'. Verify the server is running and reachable. (Failed to connect to the remote Jupyter Server 'http://128.178.39.90:9090/'. Verify the server is running and reachable. (request to http://128.178.39.90:9090/api/kernels?1709043825345 failed, reason: connect ECONNREFUSED 128.178.39.90:9090).)."
     ]
    }
   ],
   "source": [
    "import numpy as np\n",
    "\n",
    "f = open(data_file_name, mode=\"rb\")\n",
    "file_byte = f.read()\n",
    "f.close()\n",
    "data_all = np.frombuffer(file_byte, dtype=np.int16, count=-1, offset=0)\n",
    "\n",
    "data = np.empty(shape=(3,ECG_VECTOR_SIZE))\n",
    "data[0] = data_all[range(0, len(data_all), 3)]\n",
    "data[1] = data_all[range(1, len(data_all), 3)]\n",
    "data[2] = data_all[range(2, len(data_all), 3)]\n",
    "\n",
    "data_plot = data[0]"
   ]
  },
  {
   "cell_type": "code",
   "execution_count": null,
   "id": "3ca6d327",
   "metadata": {},
   "outputs": [
    {
     "ename": "",
     "evalue": "",
     "output_type": "error",
     "traceback": [
      "\u001b[1;31mFailed to connect to the remote Jupyter Server 'http://128.178.39.90:9090/'. Verify the server is running and reachable. (Failed to connect to the remote Jupyter Server 'http://128.178.39.90:9090/'. Verify the server is running and reachable. (request to http://128.178.39.90:9090/api/kernels?1709043825345 failed, reason: connect ECONNREFUSED 128.178.39.90:9090).)."
     ]
    }
   ],
   "source": [
    "import matplotlib.pyplot as plt\n",
    "\n",
    "time_v = range(len(data_plot)) # in ms\n",
    "\n",
    "# Plot the desired signals\n",
    "fig, ax = plt.subplots(ncols=1, figsize=(50, 5))\n",
    "print(len(data_plot))\n",
    "\n",
    "ax.plot(time_v, data_plot)\n",
    "\n",
    "ax.legend(\"Reference\")\n",
    "ax.set_xlabel(\"Time (s)\")\n",
    "ax.set_title(f\"Heart Beat signal\")\n",
    "\n",
    "plt.show()"
   ]
  },
  {
   "cell_type": "markdown",
   "id": "edc5641e",
   "metadata": {},
   "source": [
    "## Performance and Energy\n",
    "\n",
    "This will generate a report in `sw/riscv/build/energy_estim.csv`. \n",
    "\n",
    "Run the `estim.ipynb` notebook to visualize the results. "
   ]
  },
  {
   "cell_type": "code",
   "execution_count": null,
   "id": "b1683f19",
   "metadata": {},
   "outputs": [
    {
     "ename": "",
     "evalue": "",
     "output_type": "error",
     "traceback": [
      "\u001b[1;31mFailed to connect to the remote Jupyter Server 'http://128.178.39.90:9090/'. Verify the server is running and reachable. (Failed to connect to the remote Jupyter Server 'http://128.178.39.90:9090/'. Verify the server is running and reachable. (request to http://128.178.39.90:9090/api/kernels?1709043825345 failed, reason: connect ECONNREFUSED 128.178.39.90:9090).)."
     ]
    }
   ],
   "source": [
    "# Define some budgets that we should not cross\n",
    "POWER_BUDGET_W      = 100e-6\n",
    "LATENCY_BUDGET_S    = 1\n",
    "\n",
    "xh.read_perf_cnt(perf_cnt);         # Read the performance counters\n",
    "xh.estimate_performance(False);     # Estimate the performance\n",
    "xh.estimate_energy(\"HVT\", False);   # Estimate the energy\n",
    "\n",
    "rep_summary, rep_latency, rep_energy  = report() # Get the report\n",
    "\n",
    "# Check that some contraints are satisfied\n",
    "print(\"---------------------\")\n",
    "if rep_summary['Power_W']   < POWER_BUDGET_W:   print(\"✅ Power SUCCESS\")\n",
    "else: print(\"❌ Power FAIL\")\n",
    "if rep_summary['Latency_s'] < LATENCY_BUDGET_S: print(\"✅ Latency SUCCESS\")\n",
    "else: print(\"❌ Latency FAIL\")\n",
    "\n",
    "# Remove modules that will not be used in the design\n",
    "pruned_energy = remove_module(rep_energy, \"always-on peripheral subsystem\" )\n",
    "pruned_energy = remove_module(pruned_energy, \"debug ao\" )\n",
    "pruned_energy = remove_module(pruned_energy, \"spi\" )\n",
    "pruned_energy = remove_module(pruned_energy, \"i2c\" )\n",
    "\n",
    "# Plot a breakdown of the energy consumption\n",
    "plot_energy( pruned_energy, level=1 )\n",
    "\n",
    "# In case you want to print the dictionaries containing the breakdown\n",
    "if 0:\n",
    "    import pprint\n",
    "    pprint.pprint(pruned_energy)"
   ]
  }
 ],
 "metadata": {
  "kernelspec": {
   "display_name": "Python 3 (ipykernel)",
   "language": "python",
   "name": "python3"
  },
  "language_info": {
   "codemirror_mode": {
    "name": "ipython",
    "version": 3
   },
   "file_extension": ".py",
   "mimetype": "text/x-python",
   "name": "python",
   "nbconvert_exporter": "python",
   "pygments_lexer": "ipython3",
   "version": "3.10.4"
  }
 },
 "nbformat": 4,
 "nbformat_minor": 5
}
