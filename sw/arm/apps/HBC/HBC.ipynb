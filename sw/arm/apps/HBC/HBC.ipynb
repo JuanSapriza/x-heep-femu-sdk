{
 "cells": [
  {
   "cell_type": "markdown",
   "id": "9a4c49a0",
   "metadata": {},
   "source": [
    "# Heart Beat Classifier\n",
    "---\n"
   ]
  },
  {
   "cell_type": "markdown",
   "id": "2fd59f4a",
   "metadata": {},
   "source": [
    "## Load the bitstream into the Programmable Logic"
   ]
  },
  {
   "cell_type": "code",
   "execution_count": 1,
   "id": "130811ea",
   "metadata": {
    "scrolled": true
   },
   "outputs": [
    {
     "data": {
      "application/javascript": [
       "\n",
       "try {\n",
       "require(['notebook/js/codecell'], function(codecell) {\n",
       "  codecell.CodeCell.options_default.highlight_modes[\n",
       "      'magic_text/x-csrc'] = {'reg':[/^%%microblaze/]};\n",
       "  Jupyter.notebook.events.one('kernel_ready.Kernel', function(){\n",
       "      Jupyter.notebook.get_cells().map(function(cell){\n",
       "          if (cell.cell_type == 'code'){ cell.auto_highlight(); } }) ;\n",
       "  });\n",
       "});\n",
       "} catch (e) {};\n"
      ]
     },
     "metadata": {},
     "output_type": "display_data"
    },
    {
     "data": {
      "application/javascript": [
       "\n",
       "try {\n",
       "require(['notebook/js/codecell'], function(codecell) {\n",
       "  codecell.CodeCell.options_default.highlight_modes[\n",
       "      'magic_text/x-csrc'] = {'reg':[/^%%pybind11/]};\n",
       "  Jupyter.notebook.events.one('kernel_ready.Kernel', function(){\n",
       "      Jupyter.notebook.get_cells().map(function(cell){\n",
       "          if (cell.cell_type == 'code'){ cell.auto_highlight(); } }) ;\n",
       "  });\n",
       "});\n",
       "} catch (e) {};\n"
      ]
     },
     "metadata": {},
     "output_type": "display_data"
    },
    {
     "name": "stdout",
     "output_type": "stream",
     "text": [
      "Bitstream loaded\n"
     ]
    }
   ],
   "source": [
    "%reload_ext autoreload\n",
    "%autoreload 2\n",
    "# Import the X-HEEP Python class\n",
    "from pynq import x_heep\n",
    "# Allow the import of all modules in this directory\n",
    "import sys\n",
    "import os\n",
    "\n",
    "SDK_PATH = \"/home/xilinx/x-heep-femu-sdk/\"\n",
    "RISCV_PATH = 'sw/riscv/'\n",
    "APP_PATH = SDK_PATH + RISCV_PATH + 'apps/HBC/'\n",
    "# ADC_BIN_NAME = 'adc_in'\n",
    "\n",
    "sys.path.append(SDK_PATH + \"sw/arm/apps/HBC/src\")\n",
    "\n",
    "# from timeseries import *\n",
    "# from report import *\n",
    "\n",
    "# Load the X-HEEP bitstream\n",
    "xh = x_heep()\n",
    "\n",
    "print(\"Bitstream loaded\")"
   ]
  },
  {
   "cell_type": "markdown",
   "id": "b693f119",
   "metadata": {},
   "source": [
    "## Compile the code and run the application\n",
    "\n",
    "You can change the variable `VERBOSE`       to 0 to supress the live printing of the UART."
   ]
  },
  {
   "cell_type": "code",
   "execution_count": 2,
   "id": "37d96249",
   "metadata": {},
   "outputs": [
    {
     "name": "stdout",
     "output_type": "stream",
     "text": [
      "✅ Compile SUCCESS\n",
      "Compilation complete!\n"
     ]
    }
   ],
   "source": [
    "import time\n",
    "import math\n",
    "# Wether to see the X-HEEP UART output live.\n",
    "VERBOSE         = 0\n",
    "# Enable the printfs inside X-HEEP application. This is not the same as VERBOSE, as it actually reflects in C-code and therefore in performance.\n",
    "ENABLE_PRINTF   = 1\n",
    "\n",
    "# Application data\n",
    "SUBJECT = 3\n",
    "ECG_VECTOR_SIZE = 15000\n",
    "RMS_NLEADS         = 3\n",
    "data_file_name = f\"/home/xilinx/x-heep-femu-sdk/sw/arm/apps/HBC/data/ecg_3l_{SUBJECT}.bin\"\n",
    "\n",
    "# Define some standards to parse the X-HEEP output\n",
    "OUTPUT_START_SEQ    = \"# \"\n",
    "OUTPUT_DIVIDER      = \"|\"\n",
    "OUTPUT_END_SEQ      = \"#---\"   \n",
    "\n",
    "# Write the definitions header file to share information with the C code\n",
    "defs = APP_PATH + 'definitions.h'\n",
    "xh.open_definitions (defs, \"DEFINITIONS\")\n",
    "xh.add_definition   (defs, \"ENABLE_PRINTF\",     ENABLE_PRINTF)\n",
    "xh.add_definition   (defs, \"OUTPUT_START_SEQ\",  OUTPUT_START_SEQ)\n",
    "xh.add_definition   (defs, \"OUTPUT_DIVIDER\",    OUTPUT_DIVIDER)\n",
    "xh.add_definition   (defs, \"OUTPUT_END_SEQ\",    OUTPUT_END_SEQ)\n",
    "xh.add_definition   (defs, \"ECG_VECTOR_SIZE\",    ECG_VECTOR_SIZE)\n",
    "xh.add_definition   (defs, \"SUBJECT\",    SUBJECT + 1)\n",
    "xh.close_definitions (defs)\n",
    "\n",
    "# Compile the application\n",
    "xh.compile_app(\"HBC\")\n",
    "print(\"Compilation complete!\")\n"
   ]
  },
  {
   "cell_type": "code",
   "execution_count": null,
   "id": "9dbcaf9b",
   "metadata": {},
   "outputs": [],
   "source": [
    "# Start a background thread that reads from the Virtual ADC\n",
    "ddr_thread, ddr_sf = xh.virtual_adc_thread_start(data_file_name)\n",
    "\n",
    "# Start a background thread that reads from the UART\n",
    "t, sf = xh.thread_start(VERBOSE)\n",
    "\n",
    "# Set the performance counters\n",
    "perf_cnt = xh.init_perf_cnt()       # Init the performance counters\n",
    "xh.reset_perf_cnt(perf_cnt)         # Reset the performance counters\n",
    "xh.start_perf_cnt_manual(perf_cnt)  # Start the performance counters\n",
    "\n",
    "time.sleep(3)\n",
    "\n",
    "out, _ = xh.run_app()               # Run the application (disregarding the error output)\n",
    "\n",
    "# Finish\n",
    "xh.stop_perf_cnt(perf_cnt)          # Stop the performance counters\n",
    "xh.thread_stop(t, sf)               # Stop the background thread that reads from the UART\n",
    "xh.thread_stop(ddr_thread, ddr_sf)  # Stop the ddr circular buffer controller\n",
    "\n",
    "xh.uart_data"
   ]
  },
  {
   "cell_type": "markdown",
   "id": "edc5641e",
   "metadata": {},
   "source": [
    "## Performance and Energy\n",
    "\n",
    "This will generate a report in `sw/riscv/build/energy_estim.csv`. \n",
    "\n",
    "Run the `estim.ipynb` notebook to visualize the results. "
   ]
  },
  {
   "cell_type": "code",
   "execution_count": null,
   "id": "b1683f19",
   "metadata": {},
   "outputs": [],
   "source": [
    "# Define some budgets that we should not cross\n",
    "POWER_BUDGET_W      = 100e-6\n",
    "LATENCY_BUDGET_S    = 1\n",
    "\n",
    "xh.read_perf_cnt(perf_cnt);         # Read the performance counters\n",
    "xh.estimate_performance(False);     # Estimate the performance \n",
    "xh.estimate_energy(\"HVT\", False);   # Estimate the energy\n",
    "\n",
    "rep_summary, rep_latency, rep_energy  = report() # Get the report\n",
    "\n",
    "# Check that some contraints are satisfied\n",
    "print(\"---------------------\")\n",
    "if rep_summary['Power_W']   < POWER_BUDGET_W:   print(\"✅ Power SUCCESS\")   \n",
    "else: print(\"❌ Power FAIL\")\n",
    "if rep_summary['Latency_s'] < LATENCY_BUDGET_S: print(\"✅ Latency SUCCESS\") \n",
    "else: print(\"❌ Latency FAIL\")\n",
    "\n",
    "# Remove modules that will not be used in the design\n",
    "pruned_energy = remove_module(rep_energy, \"always-on peripheral subsystem\" )\n",
    "pruned_energy = remove_module(pruned_energy, \"debug ao\" )\n",
    "pruned_energy = remove_module(pruned_energy, \"spi\" )\n",
    "pruned_energy = remove_module(pruned_energy, \"i2c\" )\n",
    "\n",
    "# Plot a breakdown of the energy consumption\n",
    "plot_energy( pruned_energy, level=1 )\n",
    "\n",
    "# In case you want to print the dictionaries containing the breakdown\n",
    "if 0:\n",
    "    import pprint\n",
    "    pprint.pprint(pruned_energy)"
   ]
  }
 ],
 "metadata": {
  "kernelspec": {
   "display_name": "Python 3 (ipykernel)",
   "language": "python",
   "name": "python3"
  },
  "language_info": {
   "codemirror_mode": {
    "name": "ipython",
    "version": 3
   },
   "file_extension": ".py",
   "mimetype": "text/x-python",
   "name": "python",
   "nbconvert_exporter": "python",
   "pygments_lexer": "ipython3",
   "version": "3.10.4"
  }
 },
 "nbformat": 4,
 "nbformat_minor": 5
}
