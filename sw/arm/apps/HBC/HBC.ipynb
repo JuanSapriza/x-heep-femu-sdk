{
 "cells": [
  {
   "cell_type": "markdown",
   "id": "9a4c49a0",
   "metadata": {},
   "source": [
    "# Heart Beat Classifier\n",
    "---\n"
   ]
  },
  {
   "cell_type": "markdown",
   "id": "2fd59f4a",
   "metadata": {},
   "source": [
    "## Load the bitstream into the Programmable Logic"
   ]
  },
  {
   "cell_type": "code",
   "execution_count": 1,
   "id": "130811ea",
   "metadata": {
    "scrolled": true
   },
   "outputs": [
    {
     "data": {
      "application/javascript": "\ntry {\nrequire(['notebook/js/codecell'], function(codecell) {\n  codecell.CodeCell.options_default.highlight_modes[\n      'magic_text/x-csrc'] = {'reg':[/^%%microblaze/]};\n  Jupyter.notebook.events.one('kernel_ready.Kernel', function(){\n      Jupyter.notebook.get_cells().map(function(cell){\n          if (cell.cell_type == 'code'){ cell.auto_highlight(); } }) ;\n  });\n});\n} catch (e) {};\n"
     },
     "metadata": {},
     "output_type": "display_data"
    },
    {
     "data": {
      "application/javascript": "\ntry {\nrequire(['notebook/js/codecell'], function(codecell) {\n  codecell.CodeCell.options_default.highlight_modes[\n      'magic_text/x-csrc'] = {'reg':[/^%%pybind11/]};\n  Jupyter.notebook.events.one('kernel_ready.Kernel', function(){\n      Jupyter.notebook.get_cells().map(function(cell){\n          if (cell.cell_type == 'code'){ cell.auto_highlight(); } }) ;\n  });\n});\n} catch (e) {};\n"
     },
     "metadata": {},
     "output_type": "display_data"
    },
    {
     "name": "stdout",
     "output_type": "stream",
     "text": [
      "Bitstream loaded\n"
     ]
    }
   ],
   "source": [
    "%reload_ext autoreload\n",
    "%autoreload 2\n",
    "# Import the X-HEEP Python class\n",
    "from pynq import x_heep\n",
    "# Allow the import of all modules in this directory\n",
    "import sys\n",
    "import os\n",
    "\n",
    "SDK_PATH = \"/home/xilinx/x-heep-femu-sdk/\"\n",
    "RISCV_PATH = 'sw/riscv/'\n",
    "APP_PATH = SDK_PATH + RISCV_PATH + 'apps/HBC/'\n",
    "NB_PATH         = SDK_PATH + 'arm/apps/HBC/'     # Path to this notebook\n",
    "# ADC_BIN_NAME = 'adc_in'\n",
    "\n",
    "sys.path.append(SDK_PATH + \"sw/arm/apps/HBC\")\n",
    "\n",
    "# from timeseries import *\n",
    "# from report import *\n",
    "\n",
    "# Load the X-HEEP bitstream\n",
    "xh = x_heep()\n",
    "\n",
    "print(\"Bitstream loaded\")"
   ]
  },
  {
   "cell_type": "markdown",
   "id": "b693f119",
   "metadata": {},
   "source": [
    "## Compile the code and run the application\n",
    "\n",
    "You can change the variable `VERBOSE`       to 0 to supress the live printing of the UART."
   ]
  },
  {
   "cell_type": "code",
   "execution_count": 2,
   "id": "37d96249",
   "metadata": {},
   "outputs": [
    {
     "name": "stdout",
     "output_type": "stream",
     "text": [
      "✅ Compile SUCCESS\n",
      "Compilation complete!\n"
     ]
    }
   ],
   "source": [
    "import time\n",
    "import math\n",
    "# Wether to see the X-HEEP UART output live.\n",
    "VERBOSE         = 0\n",
    "# Enable the printfs inside X-HEEP application. This is not the same as VERBOSE, as it actually reflects in C-code and therefore in performance.\n",
    "ENABLE_PRINTF   = 1\n",
    "\n",
    "# Application data\n",
    "SUBJECT = 2\n",
    "ECG_VECTOR_SIZE = 15000 # Number of samples per lead\n",
    "RMS_NLEADS         = 3 # ADC Channels\n",
    "SAMPLE_FREQ        = 250 # (Hz)\n",
    "data_file_name = f\"/home/xilinx/x-heep-femu-sdk/sw/arm/apps/HBC/data/ecg_3l_{SUBJECT}.bin\"\n",
    "\n",
    "# Define some standards to parse the X-HEEP output\n",
    "OUTPUT_START_SEQ    = \"# \"\n",
    "OUTPUT_DIVIDER      = \"|\"\n",
    "OUTPUT_END_SEQ      = \"#---\"\n",
    "\n",
    "# Write the definitions header file to share information with the C code\n",
    "defs = APP_PATH + 'definitions.h'\n",
    "xh.open_definitions (defs, \"DEFINITIONS\")\n",
    "xh.add_definition   (defs, \"ENABLE_PRINTF\",     ENABLE_PRINTF)\n",
    "xh.add_definition   (defs, \"OUTPUT_START_SEQ\",  OUTPUT_START_SEQ)\n",
    "xh.add_definition   (defs, \"OUTPUT_DIVIDER\",    OUTPUT_DIVIDER)\n",
    "xh.add_definition   (defs, \"OUTPUT_END_SEQ\",    OUTPUT_END_SEQ)\n",
    "xh.add_definition   (defs, \"ECG_VECTOR_SIZE\",    ECG_VECTOR_SIZE)\n",
    "xh.add_definition   (defs, \"SUBJECT\",    SUBJECT + 1)\n",
    "xh.close_definitions (defs)\n",
    "\n",
    "# Compile the application\n",
    "xh.compile_app(\"HBC\")\n",
    "print(\"Compilation complete!\")\n"
   ]
  },
  {
   "cell_type": "code",
   "execution_count": 3,
   "id": "9dbcaf9b",
   "metadata": {},
   "outputs": [
    {
     "name": "stdout",
     "output_type": "stream",
     "text": [
      "SatHB\n",
      "mrodsi#0\n"
     ]
    },
    {
     "name": "stderr",
     "output_type": "stream",
     "text": [
      "Exception in thread Thread-6 (thread_process_uart_read):\n",
      "Traceback (most recent call last):\n",
      "  File \"/usr/lib/python3.10/threading.py\", line 1009, in _bootstrap_inner\n",
      "    self.run()\n",
      "  File \"/usr/lib/python3.10/threading.py\", line 946, in run\n",
      "    self._target(*self._args, **self._kwargs)\n",
      "  File \"/home/xilinx/x-heep-femu-sdk/sw/arm/sdk/x_heep_api.py\", line 85, in thread_process_uart_read\n",
      "    line = serialPort.readline().decode('utf-8')\n",
      "  File \"/usr/local/share/pynq-venv/lib/python3.10/site-packages/serial/serialposix.py\", line 595, in read\n",
      "    raise SerialException(\n",
      "serial.serialutil.SerialException: device reports readiness to read but returned no data (device disconnected or multiple access on port?)\n"
     ]
    },
    {
     "name": "stdout",
     "output_type": "stream",
     "text": [
      "nw0 BOMLBAT\n",
      "Win #1\n",
      "Window 1: ABNORMAL_BEAT!\n",
      "Win #2\n",
      "Window 2: ABNORMAL_BEAT!\n",
      "Win #3\n",
      "Window 3: ABNORMAL_BEAT!\n",
      "Finished HBC\n",
      "✅ Return SUCCESS\n",
      " \n"
     ]
    },
    {
     "data": {
      "text/plain": [
       "['SatHB\\n',\n",
       " 'tr CNube f winow: 4\\n',\n",
       " 'mrodsi#0\\n',\n",
       " 'nw0 BOMLBAT\\n',\n",
       " 'Win #1\\n',\n",
       " 'Window 1: ABNORMAL_BEAT!\\n',\n",
       " 'Win #2\\n',\n",
       " 'Window 2: ABNORMAL_BEAT!\\n',\n",
       " 'Win #3\\n',\n",
       " 'Window 3: ABNORMAL_BEAT!\\n',\n",
       " 'Finished HBC\\n']"
      ]
     },
     "execution_count": 3,
     "metadata": {},
     "output_type": "execute_result"
    }
   ],
   "source": [
    "# Start a background thread that reads from the Virtual ADC\n",
    "ddr_thread, ddr_sf = xh.virtual_adc_thread_start(data_file_name)\n",
    "\n",
    "# Start a background thread that reads from the UART\n",
    "t, sf = xh.thread_start(VERBOSE)\n",
    "\n",
    "# Set the performance counters\n",
    "perf_cnt = xh.init_perf_cnt()       # Init the performance counters\n",
    "xh.reset_perf_cnt(perf_cnt)         # Reset the performance counters\n",
    "xh.start_perf_cnt_manual(perf_cnt)  # Start the performance counters\n",
    "\n",
    "time.sleep(3)\n",
    "\n",
    "out, _ = xh.run_app()               # Run the application (disregarding the error output)\n",
    "\n",
    "# Finish\n",
    "xh.stop_perf_cnt(perf_cnt)          # Stop the performance counters\n",
    "xh.thread_stop(t, sf)               # Stop the background thread that reads from the UART\n",
    "xh.thread_stop(ddr_thread, ddr_sf)  # Stop the ddr circular buffer controller\n",
    "\n",
    "xh.uart_data"
   ]
  },
  {
   "cell_type": "markdown",
   "id": "3e09781e",
   "metadata": {},
   "source": [
    "## Correctness against golden reference"
   ]
  },
  {
   "cell_type": "code",
   "execution_count": 4,
   "id": "2d0b1324",
   "metadata": {},
   "outputs": [],
   "source": [
    "import numpy as np\n",
    "\n",
    "f = open(data_file_name, mode=\"rb\")\n",
    "file_byte = f.read()\n",
    "f.close()\n",
    "data_all = np.frombuffer(file_byte, dtype=np.int16, count=-1, offset=0)\n",
    "\n",
    "data = np.empty(shape=(3,ECG_VECTOR_SIZE))\n",
    "data[0] = data_all[range(0, len(data_all), 3)]\n",
    "data[1] = data_all[range(1, len(data_all), 3)]\n",
    "data[2] = data_all[range(2, len(data_all), 3)]\n",
    "\n",
    "data_plot = data[0][range(0, 1000)]"
   ]
  },
  {
   "cell_type": "code",
   "execution_count": 5,
   "id": "3ca6d327",
   "metadata": {},
   "outputs": [
    {
     "name": "stdout",
     "output_type": "stream",
     "text": [
      "1000\n"
     ]
    },
    {
     "data": {
      "image/png": "[encoded data removed]",
      "text/plain": [
       "<Figure size 720x360 with 1 Axes>"
      ]
     },
     "metadata": {
      "needs_background": "light"
     },
     "output_type": "display_data"
    }
   ],
   "source": [
    "import matplotlib.pyplot as plt\n",
    "\n",
    "time_v = range(len(data_plot)) # in ms\n",
    "\n",
    "# Plot the desired signals\n",
    "fig, ax = plt.subplots(ncols=1, figsize=(10, 5))\n",
    "print(len(data_plot))\n",
    "\n",
    "ax.plot(time_v, data_plot)\n",
    "\n",
    "ax.legend(\"Reference\")\n",
    "ax.set_xlabel(\"Time (s)\")\n",
    "ax.set_title(f\"Heart Beat signal\")\n",
    "\n",
    "plt.show()"
   ]
  },
  {
   "cell_type": "markdown",
   "id": "edc5641e",
   "metadata": {},
   "source": [
    "## Performance and Energy\n",
    "\n",
    "This will generate a report in `sw/riscv/build/energy_estim.csv`. \n",
    "\n",
    "Run the `estim.ipynb` notebook to visualize the results. "
   ]
  },
  {
   "cell_type": "code",
   "execution_count": 6,
   "id": "b1683f19",
   "metadata": {},
   "outputs": [
    {
     "ename": "NameError",
     "evalue": "name 'report' is not defined",
     "output_type": "error",
     "traceback": [
      "\u001b[0;31m---------------------------------------------------------------------------\u001b[0m",
      "\u001b[0;31mNameError\u001b[0m                                 Traceback (most recent call last)",
      "Input \u001b[0;32mIn [6]\u001b[0m, in \u001b[0;36m<cell line: 9>\u001b[0;34m()\u001b[0m\n\u001b[1;32m      6\u001b[0m xh\u001b[38;5;241m.\u001b[39mestimate_performance(\u001b[38;5;28;01mFalse\u001b[39;00m);     \u001b[38;5;66;03m# Estimate the performance\u001b[39;00m\n\u001b[1;32m      7\u001b[0m xh\u001b[38;5;241m.\u001b[39mestimate_energy(\u001b[38;5;124m\"\u001b[39m\u001b[38;5;124mHVT\u001b[39m\u001b[38;5;124m\"\u001b[39m, \u001b[38;5;28;01mFalse\u001b[39;00m);   \u001b[38;5;66;03m# Estimate the energy\u001b[39;00m\n\u001b[0;32m----> 9\u001b[0m rep_summary, rep_latency, rep_energy  \u001b[38;5;241m=\u001b[39m \u001b[43mreport\u001b[49m() \u001b[38;5;66;03m# Get the report\u001b[39;00m\n\u001b[1;32m     11\u001b[0m \u001b[38;5;66;03m# Check that some contraints are satisfied\u001b[39;00m\n\u001b[1;32m     12\u001b[0m \u001b[38;5;28mprint\u001b[39m(\u001b[38;5;124m\"\u001b[39m\u001b[38;5;124m---------------------\u001b[39m\u001b[38;5;124m\"\u001b[39m)\n",
      "\u001b[0;31mNameError\u001b[0m: name 'report' is not defined"
     ]
    }
   ],
   "source": [
    "# Define some budgets that we should not cross\n",
    "POWER_BUDGET_W      = 100e-6\n",
    "LATENCY_BUDGET_S    = 1\n",
    "\n",
    "xh.read_perf_cnt(perf_cnt);         # Read the performance counters\n",
    "xh.estimate_performance(False);     # Estimate the performance\n",
    "xh.estimate_energy(\"HVT\", False);   # Estimate the energy\n",
    "\n",
    "rep_summary, rep_latency, rep_energy  = report() # Get the report\n",
    "\n",
    "# Check that some contraints are satisfied\n",
    "print(\"---------------------\")\n",
    "if rep_summary['Power_W']   < POWER_BUDGET_W:   print(\"✅ Power SUCCESS\")\n",
    "else: print(\"❌ Power FAIL\")\n",
    "if rep_summary['Latency_s'] < LATENCY_BUDGET_S: print(\"✅ Latency SUCCESS\")\n",
    "else: print(\"❌ Latency FAIL\")\n",
    "\n",
    "# Remove modules that will not be used in the design\n",
    "pruned_energy = remove_module(rep_energy, \"always-on peripheral subsystem\" )\n",
    "pruned_energy = remove_module(pruned_energy, \"debug ao\" )\n",
    "pruned_energy = remove_module(pruned_energy, \"spi\" )\n",
    "pruned_energy = remove_module(pruned_energy, \"i2c\" )\n",
    "\n",
    "# Plot a breakdown of the energy consumption\n",
    "plot_energy( pruned_energy, level=1 )\n",
    "\n",
    "# In case you want to print the dictionaries containing the breakdown\n",
    "if 0:\n",
    "    import pprint\n",
    "    pprint.pprint(pruned_energy)"
   ]
  }
 ],
 "metadata": {
  "kernelspec": {
   "display_name": "Python 3 (ipykernel)",
   "language": "python",
   "name": "python3"
  },
  "language_info": {
   "codemirror_mode": {
    "name": "ipython",
    "version": 3
   },
   "file_extension": ".py",
   "mimetype": "text/x-python",
   "name": "python",
   "nbconvert_exporter": "python",
   "pygments_lexer": "ipython3",
   "version": "3.10.4"
  }
 },
 "nbformat": 4,
 "nbformat_minor": 5
}
