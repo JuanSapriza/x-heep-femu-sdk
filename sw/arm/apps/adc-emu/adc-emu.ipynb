{
 "cells": [
  {
   "cell_type": "markdown",
   "id": "9a4c49a0",
   "metadata": {},
   "source": [
    "# Virtual ADC example\n",
    "---\n"
   ]
  },
  {
   "cell_type": "markdown",
   "id": "2fd59f4a",
   "metadata": {},
   "source": [
    "## Load the bitstream into the Programmable Logic"
   ]
  },
  {
   "cell_type": "code",
   "execution_count": 1,
   "id": "130811ea",
   "metadata": {
    "scrolled": true
   },
   "outputs": [
    {
     "data": {
      "application/javascript": "\ntry {\nrequire(['notebook/js/codecell'], function(codecell) {\n  codecell.CodeCell.options_default.highlight_modes[\n      'magic_text/x-csrc'] = {'reg':[/^%%microblaze/]};\n  Jupyter.notebook.events.one('kernel_ready.Kernel', function(){\n      Jupyter.notebook.get_cells().map(function(cell){\n          if (cell.cell_type == 'code'){ cell.auto_highlight(); } }) ;\n  });\n});\n} catch (e) {};\n"
     },
     "metadata": {},
     "output_type": "display_data"
    },
    {
     "data": {
      "application/javascript": "\ntry {\nrequire(['notebook/js/codecell'], function(codecell) {\n  codecell.CodeCell.options_default.highlight_modes[\n      'magic_text/x-csrc'] = {'reg':[/^%%pybind11/]};\n  Jupyter.notebook.events.one('kernel_ready.Kernel', function(){\n      Jupyter.notebook.get_cells().map(function(cell){\n          if (cell.cell_type == 'code'){ cell.auto_highlight(); } }) ;\n  });\n});\n} catch (e) {};\n"
     },
     "metadata": {},
     "output_type": "display_data"
    }
   ],
   "source": [
    "# Import the X-HEEP Python class\n",
    "from pynq import x_heep\n",
    "# Allow the import of all modules in this directory\n",
    "import sys\n",
    "import os\n",
    "\n",
    "SDK_PATH = \"/home/xilinx/x-heep-femu-sdk/\"\n",
    "\n",
    "sys.path.append(SDK_PATH + \"sw/arm/apps/adc-emu/src\")\n",
    "\n",
    "from timeseries import *\n",
    "\n",
    "# Load the X-HEEP bitstream\n",
    "xh = x_heep()"
   ]
  },
  {
   "attachments": {},
   "cell_type": "markdown",
   "id": "c9e56e3e",
   "metadata": {},
   "source": [
    "## Generate an input array to use as signal "
   ]
  },
  {
   "cell_type": "code",
   "execution_count": 2,
   "id": "3b18fcf9",
   "metadata": {},
   "outputs": [
    {
     "name": "stdout",
     "output_type": "stream",
     "text": [
      "[-54.71059056213109, -65.92874728308456, -61.53306138426197, -52.584700804516, -66.79872678389319, -54.9133677390113, -66.38009003162438, -62.2068049074446, -53.23227953068183, -68.00230744666604]\n"
     ]
    }
   ],
   "source": [
    "import numpy as np\n",
    "\n",
    "APP_DIR = SDK_PATH + 'sw/riscv/apps/adc-emu/'\n",
    "ADC_BIN_NAME = 'adc_in.bin'\n",
    "\n",
    "MAX_POSSIBLE_DATA_LENGTH = 2048\n",
    "INPUT_DATA_LENGTH = 800\n",
    "\n",
    "\n",
    "# Generate a binary file from a txt\n",
    "if 0:\n",
    "    with open( APP_DIR + 'EpiPhone.txt', 'r') as f: \n",
    "        din = f.readlines()\n",
    "\n",
    "    # Keep only the first few values\n",
    "    din_f = din[:INPUT_DATA_LENGTH]\n",
    "    din_f = np.array(din_f, dtype=float)\n",
    "\n",
    "    # Don't normalize, just round to u16\n",
    "    din_u16 = din_f.astype(np.uint16)\n",
    "\n",
    "    # Save the array to a binary file\n",
    "    din_norm_u32 = din_u16.astype(np.uint32).copy()\n",
    "    with open(APP_DIR + ADC_BIN_NAME,'wb') as file:\n",
    "        din_norm_u32.byteswap(True).tofile(file)\n",
    "\n",
    "\n",
    "# Take a pre-generated binary file\n",
    "if 1: \n",
    "    import shutil\n",
    "    import os\n",
    "    from timeseries import Timeseries\n",
    "\n",
    "    src         = SDK_PATH + 'sw/arm/apps/adc-emu/out/'\n",
    "    src_name    = 'Raw_Norm'\n",
    "    ext_bin     = '.bin'\n",
    "    ext_pkl     = '.pkl'\n",
    "    dst         = APP_DIR\n",
    "    dst_name    = ADC_BIN_NAME\n",
    "\n",
    "    # Remove the existing file at the destination path\n",
    "    if os.path.exists(dst+dst_name):\n",
    "        os.remove(dst+dst_name)\n",
    "    shutil.copy( src+src_name+ext_bin, dst+dst_name )\n",
    "\n",
    "\n",
    "    din = Timeseries.load(src+src_name+ext_pkl)\n",
    "    print(din.data[:10])\n",
    "\n",
    "    INPUT_DATA_LENGTH = len(din.data)\n",
    "\n",
    "\n",
    "\n",
    "\n",
    "# Write the definitions header file to share information with the C code\n",
    "with open( APP_DIR + 'definitions.h', 'w+') as f: \n",
    "    f.write(f\"#define INPUT_DATA_LENGTH {INPUT_DATA_LENGTH} \\n\")\n"
   ]
  },
  {
   "cell_type": "markdown",
   "id": "b693f119",
   "metadata": {},
   "source": [
    "## Compile the code and run the application\n",
    "You can change the variable `SKIP_COMPILE`  to 1 to avoid compiling each time.\n",
    "\n",
    "You can change the variable `SKIP_MEMORY`   to 1 to avoid generating the ADC memory each time.\n",
    "\n",
    "You can change the variable `VERBOSE`       to 0 to supress the live printing of the UART."
   ]
  },
  {
   "cell_type": "code",
   "execution_count": 3,
   "id": "37d96249",
   "metadata": {},
   "outputs": [
    {
     "name": "stdout",
     "output_type": "stream",
     "text": [
      "✅ Compile SUCCESS\n",
      "✅ Return SUCCESS\n",
      " \n"
     ]
    }
   ],
   "source": [
    "# Skip compiling if all you want to do is run the application\n",
    "# Note that the compilation is affected by the parameters written to the definitions.h file\n",
    "SKIP_COMPILE = 0\n",
    "\n",
    "# Skip the memory generation\n",
    "SKIP_MEMORY = 0\n",
    "\n",
    "# Wether to see the X-HEEP UART output live.\n",
    "VERBOSE = 0\n",
    "\n",
    "# Compile the application\n",
    "if SKIP_COMPILE or xh.compile_app(\"adc-emu\"):\n",
    "\n",
    "    if not SKIP_MEMORY:\n",
    "        # Write the ADC data to the virtual ADC\n",
    "        adc = xh.init_adc_mem() # Init the ADC memory\n",
    "        xh.reset_adc_mem(adc)   # Reset the ADC memory\n",
    "        xh.write_adc_mem(adc)   # Write the ADC memory\n",
    "\n",
    "    t, sf = xh.thread_start(VERBOSE)   # Start a background thread that reads from the UART\n",
    "    out, _ = xh.run_app()       # Run the application (disregarding the error output)\n",
    "    xh.thread_stop(t, sf)       # Stop the background thread that reads from the UART"
   ]
  },
  {
   "attachments": {},
   "cell_type": "markdown",
   "id": "e5984a04",
   "metadata": {},
   "source": [
    "### Check if the CPU's output is the same as the expected result\n"
   ]
  },
  {
   "cell_type": "code",
   "execution_count": 4,
   "id": "e59f30c3",
   "metadata": {},
   "outputs": [
    {
     "name": "stdout",
     "output_type": "stream",
     "text": [
      "[-54, -65, -61, -52, -66, -54, -66, -62, -53, -68, -56, -68, -65, -56, -72, -59, -71, -66, -56, -72, -59, -71, -66, -56, -72, -59, -71, -66, -55, -72, -59, -70, -66, -55, -72, -59, -70, -66, -54, -71, -57, -68, -64, -52, -69, -55, -66, -63, -51, -71, -51, -63, -60, -47, -69, -53, -65, -62, -45, -68, -52, -64, -61, -43, -69, -50, -62, -59, -40, -67, -47, -59, -57, -36, -65, -45, -56, -55, -33, -63, -42, -53, -53, -31, -61, -40, -51, -51, -28, -60, -39, -50, -49, -25, -58, -36, -48, -49, -26, -58, -35, -43, -41, -17, -51, -31, -41, -43, -18, -52, -29, -38, -41, -14, -50, -27, -36, -39, -11, -48, -25, -34, -38, -9, -45, -22, -30, -36, -6, -44, -20, -26, -32, -1, -41, -15, -25, -31, -3, -41, -15, -22, -25, 3, -34, -11, -19, -24, 6, -33, -8, -16, -22, 8, -32, -8, -15, -22, 8, -32, -8, -13, -21, 10, -31, -6, -12, -20, 11, -30, -6, -11, -20, 12, -30, -5, -9, -19, 14, -29, -4, -9, -19, 14, -29, -4, -7, -18, 17, -25, 0, -4, -14, 18, -25, 0, -3, -14, 19, -23]\n"
     ]
    }
   ],
   "source": [
    "app_out = [int(x) for x in xh.uart_data if x.strip()]\n",
    "print(app_out)"
   ]
  },
  {
   "cell_type": "markdown",
   "id": "35374e96",
   "metadata": {},
   "source": [
    "## Plot the input and output"
   ]
  },
  {
   "cell_type": "code",
   "execution_count": 6,
   "id": "a08fa0cc",
   "metadata": {},
   "outputs": [
    {
     "data": {
      "text/plain": [
       "<matplotlib.legend.Legend at 0xab3d9328>"
      ]
     },
     "execution_count": 6,
     "metadata": {},
     "output_type": "execute_result"
    },
    {
     "data": {
      "image/png": "[encoded data removed]",
      "text/plain": [
       "<Figure size 432x288 with 1 Axes>"
      ]
     },
     "metadata": {
      "needs_background": "light"
     },
     "output_type": "display_data"
    }
   ],
   "source": [
    "import matplotlib.pyplot as plt\n",
    "\n",
    "plt.plot(din.data)\n",
    "plt.plot(app_out)\n",
    "\n",
    "plt.legend([ din.name, \"X-HEEP output\"])\n",
    "\n"
   ]
  }
 ],
 "metadata": {
  "kernelspec": {
   "display_name": "Python 3 (ipykernel)",
   "language": "python",
   "name": "python3"
  },
  "language_info": {
   "codemirror_mode": {
    "name": "ipython",
    "version": 3
   },
   "file_extension": ".py",
   "mimetype": "text/x-python",
   "name": "python",
   "nbconvert_exporter": "python",
   "pygments_lexer": "ipython3",
   "version": "3.10.4"
  }
 },
 "nbformat": 4,
 "nbformat_minor": 5
}
