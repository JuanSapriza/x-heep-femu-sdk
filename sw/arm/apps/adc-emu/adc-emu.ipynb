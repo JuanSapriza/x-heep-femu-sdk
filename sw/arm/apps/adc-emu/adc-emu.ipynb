{
 "cells": [
  {
   "cell_type": "markdown",
   "id": "9a4c49a0",
   "metadata": {},
   "source": [
    "# Virtual ADC example\n",
    "---\n"
   ]
  },
  {
   "cell_type": "markdown",
   "id": "2fd59f4a",
   "metadata": {},
   "source": [
    "## Load the bitstream into the Programmable Logic"
   ]
  },
  {
   "cell_type": "code",
   "execution_count": 76,
   "id": "130811ea",
   "metadata": {
    "scrolled": true
   },
   "outputs": [],
   "source": [
    "%reload_ext autoreload\n",
    "%autoreload 2\n",
    "# Import the X-HEEP Python class\n",
    "from pynq import x_heep\n",
    "# Allow the import of all modules in this directory\n",
    "import sys\n",
    "import os\n",
    "\n",
    "SDK_PATH = \"/home/xilinx/x-heep-femu-sdk/\"\n",
    "RISCV_PATH = 'sw/riscv/'\n",
    "APP_PATH = SDK_PATH + RISCV_PATH + 'apps/adc-emu/'\n",
    "ADC_BIN_NAME = 'adc_in'\n",
    "\n",
    "sys.path.append(SDK_PATH + \"sw/arm/apps/adc-emu/src\")\n",
    "\n",
    "from timeseries import *\n",
    "from report import *\n",
    "\n",
    "# Load the X-HEEP bitstream\n",
    "xh = x_heep()"
   ]
  },
  {
   "attachments": {},
   "cell_type": "markdown",
   "id": "c9e56e3e",
   "metadata": {},
   "source": [
    "## Generate an input array to use as signal "
   ]
  },
  {
   "cell_type": "code",
   "execution_count": 77,
   "id": "3b18fcf9",
   "metadata": {},
   "outputs": [],
   "source": [
    "import numpy as np\n",
    "from timeseries import Timeseries\n",
    "\n",
    "MAX_POSSIBLE_DATA_LENGTH    = 2048\n",
    "INPUT_DATA_LENGTH           = 800\n",
    "\n",
    "# Generate a binary file from a txt\n",
    "if 0:\n",
    "    with open( APP_PATH + 'EpiPhone.txt', 'r') as f: \n",
    "        din = f.readlines()\n",
    "\n",
    "    # Keep only the first few values\n",
    "    din_f = din[:INPUT_DATA_LENGTH]\n",
    "    din_f = np.array(din_f, dtype=float)\n",
    "\n",
    "    # Don't normalize, just round to u16\n",
    "    din_u16 = din_f.astype(np.uint16)\n",
    "\n",
    "    # Save the array to a binary file\n",
    "    din_norm_u32 = din_u16.astype(np.uint32).copy()\n",
    "    with open(APP_PATH + ADC_BIN_NAME + \"bin\",'wb') as file:\n",
    "        din_norm_u32.byteswap(True).tofile(file)\n",
    "\n",
    "\n",
    "# Take a pre-generated binary file\n",
    "if 1: \n",
    "    src         = SDK_PATH + 'sw/arm/apps/adc-emu/out/'\n",
    "    src_name    = 'Raw_Norm'\n",
    "    ext_bin     = '.bin'\n",
    "    ext_pkl     = '.pkl'\n",
    "    dst         = APP_PATH\n",
    "    dst_name    = ADC_BIN_NAME\n",
    "\n",
    "    din = Timeseries.load(src+src_name+ext_pkl)\n",
    "    din.data += abs(min(din.data))\n",
    "    din.data = din.data[:INPUT_DATA_LENGTH]\n",
    "    din.time = din.time[:INPUT_DATA_LENGTH]\n",
    "    din.export_bin(path=APP_PATH, name=ADC_BIN_NAME)\n",
    "\n",
    "    INPUT_DATA_LENGTH = len(din.data)\n",
    "\n"
   ]
  },
  {
   "cell_type": "markdown",
   "id": "b693f119",
   "metadata": {},
   "source": [
    "## Compile the code and run the application\n",
    "You can change the variable `SKIP_COMPILE`  to 1 to avoid compiling each time.\n",
    "\n",
    "You can change the variable `SKIP_MEMORY`   to 1 to avoid generating the ADC memory each time.\n",
    "\n",
    "You can change the variable `VERBOSE`       to 0 to supress the live printing of the UART."
   ]
  },
  {
   "cell_type": "code",
   "execution_count": 78,
   "id": "37d96249",
   "metadata": {},
   "outputs": [
    {
     "name": "stdout",
     "output_type": "stream",
     "text": [
      "✅ Compile SUCCESS\n",
      "✅ Return SUCCESS\n",
      " \n"
     ]
    }
   ],
   "source": [
    "# Skip compiling if all you want to do is run the application\n",
    "# Note that the compilation is affected by the parameters written to the definitions.h file\n",
    "SKIP_COMPILE    = 0\n",
    "# Skip the memory generation\n",
    "SKIP_MEMORY     = 0\n",
    "# Wether to see the X-HEEP UART output live.\n",
    "VERBOSE         = 0\n",
    "# Enable the printfs inside X-HEEP application. This is not the same as VERBOSE, as it actually reflects in C-code and therefore in performance.\n",
    "ENABLE_PRINTF   = 1\n",
    "\n",
    "\n",
    "# Define some standards to parse the X-HEEP output\n",
    "OUTPUT_START_SEQ    = \"# \"\n",
    "OUTPUT_DIVIDER      = \"|\"\n",
    "OUTPUT_END_SEQ      = \"#---\"           \n",
    "# Write the definitions header file to share information with the C code\n",
    "defs = APP_PATH + 'definitions.h'\n",
    "xh.open_definitions (defs, \"DEFINITIONS\")\n",
    "xh.add_definition   (defs, \"INPUT_DATA_LENGTH\", INPUT_DATA_LENGTH)\n",
    "xh.add_definition   (defs, \"ENABLE_PRINTF\",     ENABLE_PRINTF)\n",
    "xh.add_definition   (defs, \"OUTPUT_START_SEQ\",  OUTPUT_START_SEQ)\n",
    "xh.add_definition   (defs, \"OUTPUT_DIVIDER\",    OUTPUT_DIVIDER)\n",
    "xh.add_definition   (defs, \"OUTPUT_END_SEQ\",    OUTPUT_END_SEQ)\n",
    "xh.close_definitions (defs)\n",
    "\n",
    "\n",
    "# Compile the application\n",
    "if SKIP_COMPILE or xh.compile_app(\"adc-emu\"):\n",
    "\n",
    "    if not SKIP_MEMORY:\n",
    "        # Write the ADC data to the virtual ADC\n",
    "        adc = xh.init_adc_mem() # Init the ADC memory\n",
    "        xh.reset_adc_mem(adc)   # Reset the ADC memory\n",
    "        xh.write_adc_mem(adc)   # Write the ADC memory\n",
    "\n",
    "    t, sf = xh.thread_start(VERBOSE)   # Start a background thread that reads from the UART\n",
    "\n",
    "    perf_cnt = xh.init_perf_cnt()       # Init the performance counters\n",
    "    xh.reset_perf_cnt(perf_cnt)         # Reset the performance counters\n",
    "    xh.start_perf_cnt_manual(perf_cnt)  # Start the performance counters\n",
    "\n",
    "    out, _ = xh.run_app()               # Run the application (disregarding the error output)\n",
    "\n",
    "    xh.stop_perf_cnt(perf_cnt)          # Stop the performance counters\n",
    "\n",
    "    xh.thread_stop(t, sf)               # Stop the background thread that reads from the UART"
   ]
  },
  {
   "attachments": {},
   "cell_type": "markdown",
   "id": "e5984a04",
   "metadata": {},
   "source": [
    "### Parse the UART output"
   ]
  },
  {
   "cell_type": "code",
   "execution_count": 79,
   "id": "e59f30c3",
   "metadata": {},
   "outputs": [],
   "source": [
    "# Extract the UART output from X-HEEP\n",
    "app_out = xh.uart_data\n",
    "\n",
    "# Find positions of strings starting with \"#\"\n",
    "starts = [i for i, s in enumerate(app_out) if s.startswith(OUTPUT_START_SEQ)]\n",
    "# Find positions of strings starting with \"#\"\n",
    "ends = [i for i, s in enumerate(app_out) if s.startswith(OUTPUT_END_SEQ)]\n",
    "\n",
    "# Sanity check to make sure that all output lists are closed\n",
    "if len(starts) != len(ends): sys.exit(\"❌ Invalid output\")\n",
    "\n",
    "# Will divide the outputs in a list of dictionaries containing headers and data\n",
    "outs = []\n",
    "for seq in range(len(starts)):\n",
    "    s = starts[seq]\n",
    "    e = ends[seq]\n",
    "    # Strip the headers of the format markers\n",
    "    headers = app_out[s].split(OUTPUT_DIVIDER)\n",
    "    headers = [ h.strip().replace(OUTPUT_START_SEQ,'') for h in headers ]\n",
    "    # Strip the data of the format markers and covert it into a numpy array of integers\n",
    "    data  = [line.split(OUTPUT_DIVIDER) for line in app_out[s+1:e]]\n",
    "    data = np.asarray([ [int(i.strip()) for i in d] for d in data ]).T\n",
    "    # Add the result to the list of dictionaries\n",
    "    outs.append( {'headers':headers, 'data':data } )\n",
    "\n",
    "# Convert all outputs to timeseries\n",
    "# Each timeseries will be part of a sequence: a group of timeseries of the same length (were printed as different columns of a same process)\n",
    "# All timeseries of a same sequence share timescale (that could be none)\n",
    "series = []\n",
    "for seq in outs:\n",
    "    seqs = []\n",
    "    cols_i = 0 \n",
    "    cols_f = len(seq['headers'])\n",
    "    time = []\n",
    "    # If some first column of a sequence is a a timestamp array, use it as time of all sequences\n",
    "    if \"time\" in seq['headers'][0].lower():\n",
    "        time = seq['data'][0]\n",
    "        cols_i = 1\n",
    "    # For the rest of the sequences just use the data as data\n",
    "    for c in range(cols_i, cols_f):\n",
    "        s = Timeseries( seq['headers'][c] )\n",
    "        s.data = seq['data'][c]\n",
    "        s.time = time\n",
    "        seqs.append(s)\n",
    "    series.append(seqs)\n",
    "\n",
    "# Access the information as\n",
    "# series[0][1].name\n",
    "# series[2][0].name\n"
   ]
  },
  {
   "cell_type": "markdown",
   "id": "35374e96",
   "metadata": {},
   "source": [
    "## Plot the input and output"
   ]
  },
  {
   "cell_type": "code",
   "execution_count": 82,
   "id": "a08fa0cc",
   "metadata": {},
   "outputs": [
    {
     "data": {
      "image/png": "[encoded data removed]",
      "text/plain": [
       "<Figure size 576x288 with 1 Axes>"
      ]
     },
     "metadata": {
      "needs_background": "light"
     },
     "output_type": "display_data"
    }
   ],
   "source": [
    "import matplotlib.pyplot as plt\n",
    "\n",
    "plts = len(series)\n",
    "fig, axs = plt.subplots(ncols=plts, figsize=(8*plts, 4))\n",
    "\n",
    "\n",
    "for p in range(plts):\n",
    "    for s in range(len(series[p])):\n",
    "        ax = axs if len(series) == 1 else axs[p] \n",
    "        ax.plot(series[p][s].data)\n",
    "\n",
    "\n",
    "# plt.plot(din.time, din.data)\n",
    "# plt.plot(din.time[1:], lpfd.data)\n",
    "# plt.plot(din.time[1:], hpfd.data)\n",
    "\n",
    "# plt.legend([ din.name, lpfd.name, hpfd.name])\n",
    "# plt.xlabel(\"Time (s)\")\n",
    "# plt.ylabel(\"Amplitude\")\n",
    "# plt.title(\"EEG signal from EpiPhone\")"
   ]
  },
  {
   "attachments": {},
   "cell_type": "markdown",
   "id": "edc5641e",
   "metadata": {},
   "source": [
    "## Performance and Energy\n",
    "\n",
    "This will generate a report in `sw/riscv/build/energy_estim.csv`. \n",
    "\n",
    "Run the `estim.ipynb` notebook to visualize the results. "
   ]
  },
  {
   "cell_type": "code",
   "execution_count": 83,
   "id": "b1683f19",
   "metadata": {},
   "outputs": [
    {
     "name": "stdout",
     "output_type": "stream",
     "text": [
      "Total cycles: \t0.48 s\n",
      "Total energy: \t357.80 µJ\n",
      "Avg power:\t737.95 µW\n",
      "---------------------\n",
      "❌ Power FAIL\n",
      "✅ Latency SUCCESS\n"
     ]
    },
    {
     "data": {
      "image/png": "[encoded data removed]",
      "text/plain": [
       "<Figure size 504x504 with 1 Axes>"
      ]
     },
     "metadata": {},
     "output_type": "display_data"
    }
   ],
   "source": [
    "# Define some budgets that we should not cross\n",
    "POWER_BUDGET_W      = 100e-6\n",
    "LATENCY_BUDGET_S    = 1\n",
    "\n",
    "xh.read_perf_cnt(perf_cnt);         # Read the performance counters\n",
    "xh.estimate_performance(False);     # Estimate the performance \n",
    "xh.estimate_energy(\"HVT\", False);   # Estimate the energy\n",
    "\n",
    "rep_summary, rep_latency, rep_energy  = report() # Get the report\n",
    "\n",
    "# Check that some contraints are satisfied\n",
    "print(\"---------------------\")\n",
    "if rep_summary['Power_W']   < POWER_BUDGET_W:   print(\"✅ Power SUCCESS\")   \n",
    "else: print(\"❌ Power FAIL\")\n",
    "if rep_summary['Latency_s'] < LATENCY_BUDGET_S: print(\"✅ Latency SUCCESS\") \n",
    "else: print(\"❌ Latency FAIL\")\n",
    "\n",
    "# Plot a breakdown of the energy consumption\n",
    "plot_energy( rep_energy, level=1 )\n",
    "\n",
    "# In case you want to print the dictionaries containing the breakdown\n",
    "if 0:\n",
    "    import pprint\n",
    "    pprint.pprint(rep_energy)\n"
   ]
  }
 ],
 "metadata": {
  "kernelspec": {
   "display_name": "Python 3 (ipykernel)",
   "language": "python",
   "name": "python3"
  },
  "language_info": {
   "codemirror_mode": {
    "name": "ipython",
    "version": 3
   },
   "file_extension": ".py",
   "mimetype": "text/x-python",
   "name": "python",
   "nbconvert_exporter": "python",
   "pygments_lexer": "ipython3",
   "version": "3.10.4"
  }
 },
 "nbformat": 4,
 "nbformat_minor": 5
}
