{
 "cells": [
  {
   "attachments": {},
   "cell_type": "markdown",
   "id": "9a4c49a0",
   "metadata": {},
   "source": [
    "# Virtual ADC example\n",
    "---\n",
    "\n",
    "Welcome to the Virtual ADC example of X-HEEP's FEMU! \n",
    "This notebook will demonstrate how to: \n",
    "1. Take a signal from a `.txt` file and convert it to a `Timeseries` variable (a simple format to store signals in Python without needing to know additional information or parsing).\n",
    "1. Load a signal from a `Timeseries` variable and feed it to the virtual ADC. \n",
    "1. Interact with the X-HEEP's C code from this notebook through a `definitions.h` file.  \n",
    "1. Launch an application on X-HEEP that will receive the virtual ADC's input and output the result of applying a filter through the UART.\n",
    "1. Plot the results obtained from X-HEEP's execution. \n",
    "1. Obtain performance measurements from the execution and plot them to spot bottlenecks and compare them to application requirements.\n",
    "\n",
    "---\n"
   ]
  },
  {
   "attachments": {},
   "cell_type": "markdown",
   "id": "2fd59f4a",
   "metadata": {},
   "source": [
    "## Initialization\n",
    "\n",
    "Firstly some key paths are set and added to the system path. \n",
    "\n",
    "Then the bitstream of X-HEEP + the necessary peripherals to interact with the FEMU (`x_heep.bit`) is loaded. It should be located in `~/x-heep-femu-sdk/hw/` (w.r.t. this notebook: `../../../../hw/`). "
   ]
  },
  {
   "cell_type": "code",
   "execution_count": 16,
   "id": "130811ea",
   "metadata": {
    "scrolled": true
   },
   "outputs": [],
   "source": [
    "%reload_ext autoreload\n",
    "%autoreload 2\n",
    "# Import the X-HEEP Python class\n",
    "from pynq import x_heep\n",
    "\n",
    "# Allow the import of all modules in this directory\n",
    "import sys\n",
    "SDK_PATH        = '/home/xilinx/x-heep-femu-sdk/sw/'            # Path to the SDK of the FEMU\n",
    "RISCV_PATH      = 'riscv/'                                      # Path to the RISCV files\n",
    "APP_PATH        = SDK_PATH + RISCV_PATH + 'apps/adc-emu/'       # Path to the .c file of the ADC-emu application\n",
    "ADC_BIN_NAME    = 'adc_in'                                      # Name of the file that will be used as ADC input    \n",
    "NB_PATH         = SDK_PATH + 'arm/jupyter_notebooks/adc-emu/'   # Path to this notebook         \n",
    "\n",
    "sys.path.append(SDK_PATH + \"arm/sdk/\")\n",
    "\n",
    "# Load the X-HEEP bitstream\n",
    "xh = x_heep()"
   ]
  },
  {
   "attachments": {},
   "cell_type": "markdown",
   "id": "21fef555",
   "metadata": {},
   "source": [
    "## Generating a Timeseries variable\n",
    "\n",
    "The `timeseries` module of the SDK allows to treat different signals and perform common operations over them. In this demo a `.txt` file is read containing data values for an EEG signal of 2 seconds of duration. In your app you can take any file, extract its values and timestamps and generate a `Timeseries` variable to use with this demo. \n",
    "\n",
    "* You can change the variable `SKIP_PKL_GEN` to 1 to avoid reading the input file and generating the `.pkl` file each time"
   ]
  },
  {
   "cell_type": "code",
   "execution_count": 17,
   "id": "669e4197",
   "metadata": {},
   "outputs": [],
   "source": [
    "import numpy as np\n",
    "from timeseries import Timeseries\n",
    "\n",
    "# Fixed information on where input and output data should be stored, and in which format\n",
    "PATH_IN         = 'in/'\n",
    "PATH_OUT        = 'out/'\n",
    "EXTENSION_IN    = '.txt'\n",
    "EXTENSION_OUT   = '.pkl'"
   ]
  },
  {
   "cell_type": "code",
   "execution_count": 18,
   "metadata": {},
   "outputs": [
    {
     "name": "stdout",
     "output_type": "stream",
     "text": [
      "⏩ Skipped signal generation\n"
     ]
    }
   ],
   "source": [
    "# The file to be converted. \n",
    "# It should contain a single data point per line and nothing else. \n",
    "# No header information. \n",
    "FILENAME = 'Biopac'  \n",
    "TIME_s  = 60\n",
    "# Skip the process of reading the file and generating the timeseries variable (.pkl). \n",
    "# This process takes several seconds and might be preferable to skip it if no changes were made to the original signal. \n",
    "SKIP_PKL_GEN = 1\n",
    "\n",
    "if SKIP_PKL_GEN: print(\"⏩ Skipped signal generation\")\n",
    "else:\n",
    "\n",
    "    # Open the file and read the values\n",
    "    y = []\n",
    "    with open(NB_PATH + PATH_IN + FILENAME + EXTENSION_IN) as f:\n",
    "        y = f.readlines()\n",
    "\n",
    "    # Parse the data into numbers\n",
    "    data = np.asarray([int(np.round(float(f))) for f in y])\n",
    "\n",
    "    # Compute the timing information based on the TIME_s variable set before\n",
    "    s_n = len(data)\n",
    "    T_s = TIME_s/s_n\n",
    "    f_Hz = s_n/TIME_s\n",
    "    time = np.arange(0,TIME_s,T_s)\n",
    "\n",
    "    # Create the timeseries variable\n",
    "    signal = Timeseries('Raw')\n",
    "    signal.data = data\n",
    "    signal.time = time\n",
    "    signal.f_Hz = f_Hz\n",
    "    # Dump the timeseries variable into a .pkl file\n",
    "    signal.dump( path = NB_PATH + PATH_OUT, name = FILENAME)\n",
    "\n",
    "    print(f\"Signal frequency: {signal.f_Hz} Hz\")\n",
    "    print(f\"Signal length: {s_n} samples ({TIME_s} seconds)\")"
   ]
  },
  {
   "attachments": {},
   "cell_type": "markdown",
   "id": "c9e56e3e",
   "metadata": {},
   "source": [
    "## Generate an input array\n",
    "\n",
    "The `.pkl` variable can be read and use as input signal to the `virtual ADC`. This is a good moment to subsample or modify your signal before feeding it to X-HEEP. Once the signal is as desired it will be exported to the `adc_in.bin` file that is stored along the C code for X-HEEP in `~/x-heep-femu-sdk/sw/riscv/apps/adc-emu/`. \n",
    "\n"
   ]
  },
  {
   "cell_type": "code",
   "execution_count": 19,
   "id": "3b18fcf9",
   "metadata": {},
   "outputs": [
    {
     "name": "stdout",
     "output_type": "stream",
     "text": [
      "Sent 2000 of 231924 words as input\n"
     ]
    }
   ],
   "source": [
    "import numpy as np\n",
    "from timeseries import Timeseries\n",
    "\n",
    "INPUT_DATA_LENGTH           = 2000\n",
    "\n",
    "# Load the data as a timeseries\n",
    "din = Timeseries.load(NB_PATH + PATH_OUT + FILENAME + EXTENSION_OUT)\n",
    "\n",
    "# Turn all values into unsigned by offsetting them\n",
    "din.data  += abs(min(din.data))\n",
    "\n",
    "# To abide by the memory constraint, downsample the signal\n",
    "inital_samples = len(din.data)\n",
    "downsample = int(inital_samples/INPUT_DATA_LENGTH)\n",
    "din.data = din.data[INPUT_DATA_LENGTH::downsample]\n",
    "din.time = din.time[INPUT_DATA_LENGTH::downsample]\n",
    "\n",
    "# Export the binary file to the application folder\n",
    "din.export_bin(path=APP_PATH, name=ADC_BIN_NAME)\n",
    "\n",
    "INPUT_DATA_LENGTH = len(din.data)\n",
    "print(f\"Sent {INPUT_DATA_LENGTH} of {inital_samples} words as input\")"
   ]
  },
  {
   "attachments": {},
   "cell_type": "markdown",
   "id": "b693f119",
   "metadata": {},
   "source": [
    "## Compile the code and run the application\n",
    "\n",
    "A `definitions.h` file is created to share data between this notebook and the C code. You can add any kind of `#define` (including macros) to the code. In this case it is used to share strings that will be used by the software to parse a result and print it so we can extract it from the UART to plot it.  \n",
    "\n",
    "The C code written for X-HEEP in `~/x-heep-femu-sdk/sw/riscv/apps/adc-emu/adc-emu.c` will be compiled to generate the `code.*` files in `~/x-heep-femu-sdk/sw/build/`. This will be later loaded into X-HEEP for it to execute. \n",
    "\n",
    "After compilation, the `virtual ADC` is initialized with the signal that will be fed.\n",
    "\n",
    "Before running the program performance counters are reset and started. These will capture the execution of X-HEEP and will be used to asses the latency of the execution and average power of each block of X-HEEP. \n",
    "\n",
    "During the exeuction the UART output will be printed live. \n",
    "\n",
    "* You can change the variable `SKIP_COMPILE`  to 1 to avoid compiling each time.\n",
    "* You can change the variable `VERBOSE`       to 0 to supress the live printing of the UART."
   ]
  },
  {
   "cell_type": "code",
   "execution_count": 20,
   "id": "37d96249",
   "metadata": {},
   "outputs": [
    {
     "name": "stdout",
     "output_type": "stream",
     "text": [
      "✅ Compile SUCCESS\n",
      "✅ Return SUCCESS\n",
      " \n"
     ]
    }
   ],
   "source": [
    "# Skip compiling if all you want to do is run the application\n",
    "# Note that the compilation is affected by the parameters written to the definitions.h file\n",
    "SKIP_COMPILE    = 0\n",
    "# Wether to see the X-HEEP UART output live.\n",
    "VERBOSE         = 0\n",
    "# Enable the printfs inside X-HEEP application. \n",
    "# This is not the same as VERBOSE, as \n",
    "#   a) it actually reflects in C-code and therefore in performance.\n",
    "#   b) Will not allow to read the output to plot in this notebook\n",
    "ENABLE_PRINTF   = 1\n",
    "\n",
    "# Define some standards to parse the X-HEEP output\n",
    "OUTPUT_START_SEQ    = \"# \"\n",
    "OUTPUT_DIVIDER      = \"|\"\n",
    "OUTPUT_END_SEQ      = \"#---\"   \n",
    "\n",
    "# Write the definitions header file to share information with the C code\n",
    "defs = APP_PATH + 'definitions.h'\n",
    "xh.open_definitions     (defs, \"DEFINITIONS\")\n",
    "xh.add_definition       (defs, \"INPUT_DATA_LENGTH\", INPUT_DATA_LENGTH)\n",
    "xh.add_definition       (defs, \"ENABLE_PRINTF\",     ENABLE_PRINTF)\n",
    "xh.add_definition       (defs, \"OUTPUT_START_SEQ\",  OUTPUT_START_SEQ)\n",
    "xh.add_definition       (defs, \"OUTPUT_DIVIDER\",    OUTPUT_DIVIDER)\n",
    "xh.add_definition       (defs, \"OUTPUT_END_SEQ\",    OUTPUT_END_SEQ)\n",
    "xh.close_definitions    (defs)\n",
    "\n",
    "# Compile the application\n",
    "if SKIP_COMPILE: print(\"⏩ Skipped compilation\") \n",
    "else:\n",
    "    xh.compile_app(\"adc-emu\")\n",
    "\n",
    "    data_file_name = APP_PATH + ADC_BIN_NAME + \".bin\"\n",
    "    ddr_thread, ddr_sf = xh.virtual_adc_thread_start(data_file_name)\n",
    "\n",
    "    perf_cnt = xh.init_perf_cnt()           # Init the performance counters\n",
    "    xh.reset_perf_cnt(perf_cnt)             # Reset the performance counters\n",
    "    xh.start_perf_cnt_manual(perf_cnt)      # Start the performance counters\n",
    "\n",
    "    out, _ = xh.run_app(verbose = VERBOSE) # Run the application (disregarding the error output)\n",
    "\n",
    "    xh.stop_perf_cnt(perf_cnt)              # Stop the performance counters\n",
    "    xh.thread_stop(ddr_thread, ddr_sf)      # Stop the ddr circular buffer controller\n",
    "    \n"
   ]
  },
  {
   "attachments": {},
   "cell_type": "markdown",
   "id": "e5984a04",
   "metadata": {},
   "source": [
    "### Parse the UART output\n",
    "\n",
    "Until now most steps were significantly \"application-agnostic\". The parsing of the output will strongly depend on what you are trying to extract from X-HEEP. In this example we are trying to plot the entire result of two filters so we defined an output format in which for each input data point we receive two output data points. "
   ]
  },
  {
   "cell_type": "code",
   "execution_count": 21,
   "id": "e59f30c3",
   "metadata": {},
   "outputs": [
    {
     "name": "stdout",
     "output_type": "stream",
     "text": [
      "Output included 1 sequences\n",
      ">>> Sequence 0 has headers: ['OUT']\n"
     ]
    }
   ],
   "source": [
    "# Extract the UART output from X-HEEP\n",
    "app_out = xh.uart_data\n",
    "\n",
    "# Find positions of strings starting with \"#\"\n",
    "starts = [i for i, s in enumerate(app_out) if s.startswith(OUTPUT_START_SEQ)]\n",
    "# Find positions of strings starting with \"#\"\n",
    "ends = [i for i, s in enumerate(app_out) if s.startswith(OUTPUT_END_SEQ)]\n",
    "\n",
    "# Sanity check to make sure that all output lists are closed\n",
    "if len(starts) != len(ends): sys.exit(\"❌ Invalid output\")\n",
    "\n",
    "# Will divide the outputs in a list of dictionaries containing headers and data\n",
    "outs = []\n",
    "for seq in range(len(starts)):\n",
    "    s = starts[seq]\n",
    "    e = ends[seq]\n",
    "    # Strip the headers of the format markers\n",
    "    headers = app_out[s].split(OUTPUT_DIVIDER)\n",
    "    headers = [ h.strip().replace(OUTPUT_START_SEQ,'') for h in headers ]\n",
    "    # Strip the data of the format markers and covert it into a numpy array of integers\n",
    "    data  = [line.split(OUTPUT_DIVIDER) for line in app_out[s+1:e]]\n",
    "    data = np.asarray([ [int(i.strip()) for i in d] for d in data ]).T\n",
    "    # Add the result to the list of dictionaries\n",
    "    outs.append( {'headers':headers, 'data':data } )\n",
    "\n",
    "# Convert all outputs to timeseries\n",
    "# Each timeseries will be part of a sequence: a group of timeseries of the same length (were printed as different columns of a same process)\n",
    "# All timeseries of a same sequence share timescale (that could be none)\n",
    "raw_series = []\n",
    "for seq in outs:\n",
    "    seqs = []\n",
    "    cols_i = 0 \n",
    "    cols_f = len(seq['headers'])\n",
    "    time = []\n",
    "    # If some first column of a sequence is a timestamp array, use it as time of all sequences\n",
    "    if \"time\" in seq['headers'][0].lower():\n",
    "        time = seq['data'][0]\n",
    "        cols_i = 1\n",
    "    # For the rest of the sequences just use the data as data\n",
    "    for c in range(cols_i, cols_f):\n",
    "        s = Timeseries( seq['headers'][c] )\n",
    "        s.data = seq['data'][c]\n",
    "        s.time = time\n",
    "        seqs.append(s)\n",
    "    raw_series.append(seqs)\n",
    "    \n",
    "# Access the information as `raw_series[0][1].name` (the name of the second column of the first sequence) \n",
    "print(\"Output included\", len(raw_series), \"sequences\")\n",
    "for s in range(len(raw_series)):\n",
    "    print(f\">>> Sequence {s} has headers: {[ h.name for h in raw_series[s] ]}\")"
   ]
  },
  {
   "attachments": {},
   "cell_type": "markdown",
   "id": "35374e96",
   "metadata": {},
   "source": [
    "## Plot the input and output\n",
    "\n",
    "The obtained output will be plotted along with the input data `din`. "
   ]
  },
  {
   "cell_type": "code",
   "execution_count": 22,
   "id": "a08fa0cc",
   "metadata": {},
   "outputs": [
    {
     "data": {
      "image/png": "[encoded data removed]",
      "text/plain": [
       "<Figure size 1080x360 with 1 Axes>"
      ]
     },
     "metadata": {
      "needs_background": "light"
     },
     "output_type": "display_data"
    }
   ],
   "source": [
    "import matplotlib.pyplot as plt\n",
    "\n",
    "# make a deep copy to ensure that changes to the list will not affect the one obtained from the output\n",
    "import copy \n",
    "series = copy.deepcopy(raw_series)\n",
    "# Add to the sequence some reference signal\n",
    "ts = Timeseries(\"Reference\")\n",
    "ts.data = din.data\n",
    "ts.name += \" (offset)\"\n",
    "ts.time = din.time\n",
    "series[0].append(ts)\n",
    "\n",
    "# Add some time information based on knowledge of what was input and the expected output\n",
    "series[0][0].time = ts.time\n",
    "series[0][1].time = ts.time\n",
    "\n",
    "# Generate subplot to show the results\n",
    "plts = len(series)\n",
    "plt_height = 5\n",
    "\n",
    "plt.rcParams[\"font.family\"] = \"serif\"\n",
    "plt.rcParams[\"font.size\"] = 14\n",
    "FIG_HEIGHT = 4\n",
    "fig, axs = plt.subplots(ncols=plts, figsize=(3*plt_height*plts, plt_height))\n",
    "\n",
    "# Plot configurations\n",
    "a = [1,0.5,0.5] # Alpha (opacity)\n",
    "\n",
    "# Plot the desired signals\n",
    "for p in range(plts):\n",
    "    for s in range(len(series[p])):\n",
    "        ax = axs if len(series) == 1 else axs[p] \n",
    "        if len(series[p][s].time) > 0:\n",
    "            ax.plot(series[p][s].time, series[p][s].data, \n",
    "                    alpha = a[s], linewidth=2)\n",
    "        else:\n",
    "            ax.plot(series[p][s].data, \n",
    "                    alpha = a[s])\n",
    "    ax.legend([seq.name for seq in series[p]], loc='lower left')\n",
    "    ax.set_xlabel(\"Time (s)\")\n",
    "    ax.set_ylabel(\"Amplitude (arbitrary units)\")\n",
    "    ax.set_title(f\"Filtered signals from {FILENAME}\")\n"
   ]
  },
  {
   "attachments": {},
   "cell_type": "markdown",
   "id": "edc5641e",
   "metadata": {},
   "source": [
    "## Performance and Energy\n",
    "\n",
    "During the execution of the application performance measurements were generated. In this section we will read them to generate latency and energy estimations. \n",
    "\n",
    "The report generated is stored in `~/x-heep-femu-sdk/sw/riscv/build/energy_estim.csv`.\n",
    "\n",
    "Latency, power and energy results will be computed and can be compared to some defined budgets. \n",
    "\n",
    "You can prune your design by removing modules to estimate the power consumption of X-HEEP without these blocks. "
   ]
  },
  {
   "cell_type": "code",
   "execution_count": 49,
   "id": "b1683f19",
   "metadata": {},
   "outputs": [
    {
     "name": "stdout",
     "output_type": "stream",
     "text": [
      "---------------------\n",
      "  Full System  \n",
      "Total cycles: \t4.83 ms\n",
      "Total energy: \t3.51 µJ\n",
      "Avg power:\t726.21 µW\n",
      "---------------------\n",
      "  System Pruning  \n",
      "Latency:\t4.83 ms\n",
      "Energy: \t0.72 µJ\n",
      "Avg Pwr:\t148.40 µW\n",
      "✅ Latency SUCCESS\n",
      "❌ Power FAIL\n"
     ]
    },
    {
     "data": {
      "image/png": "[encoded data removed]",
      "text/plain": [
       "<Figure size 504x504 with 1 Axes>"
      ]
     },
     "metadata": {},
     "output_type": "display_data"
    }
   ],
   "source": [
    "from report import *\n",
    "\n",
    "# Define some budgets that we should not cross\n",
    "POWER_BUDGET_W      = 100e-6\n",
    "LATENCY_BUDGET_S    = 1\n",
    "\n",
    "xh.read_perf_cnt(perf_cnt);         # Read the performance counters\n",
    "xh.estimate_performance(verbose=False);     # Estimate the performance \n",
    "xh.estimate_energy(\"HVT\", verbose=False);   # Estimate the energy using the HVT model\n",
    "\n",
    "print(\"---------------------\")\n",
    "print(\"  Full System  \")\n",
    "rep_summary, rep_latency, rep_energy  = report() # Get the report\n",
    "\n",
    "print(\"---------------------\")\n",
    "print(\"  System Pruning  \")\n",
    "\n",
    "# Remove modules that will not be used in the design\n",
    "pruned_energy = remove_module(rep_energy, \"always-on peripheral subsystem\" )\n",
    "pruned_energy = remove_module(pruned_energy, \"debug ao\" )\n",
    "pruned_energy = remove_module(pruned_energy, \"spi\" )\n",
    "pruned_energy = remove_module(pruned_energy, \"i2c\" )\n",
    "\n",
    "rep_summary['Energy_J'] = pruned_energy['Total']\n",
    "rep_summary['Power_W']  = rep_summary['Energy_J']/rep_summary['Latency_s']\n",
    "\n",
    "print(f\"Latency:\\t{rep_summary['Latency_s']*1e3:0.2f} ms\")\n",
    "print(f\"Energy: \\t{rep_summary['Energy_J']*1e6:0.2f} µJ\")\n",
    "print(f\"Avg Pwr:\\t{rep_summary['Power_W']*1e6:0.2f} µW\")\n",
    "\n",
    "# Check that some contraints are satisfied\n",
    "if rep_summary['Latency_s'] < LATENCY_BUDGET_S: print(\"✅ Latency SUCCESS\") \n",
    "else: print(\"❌ Latency FAIL\")\n",
    "if rep_summary['Power_W']   < POWER_BUDGET_W:   print(\"✅ Power SUCCESS\")   \n",
    "else: print(\"❌ Power FAIL\")\n",
    "\n",
    "\n",
    "# Plot a breakdown of the energy consumption\n",
    "plot_energy( pruned_energy, level=1 )\n",
    "\n",
    "# In case you want to print the dictionaries containing the breakdown\n",
    "if 0:\n",
    "    import pprint\n",
    "    pprint.pprint(pruned_energy)"
   ]
  },
  {
   "cell_type": "code",
   "execution_count": 47,
   "id": "c609872e",
   "metadata": {},
   "outputs": [
    {
     "name": "stdout",
     "output_type": "stream",
     "text": [
      "0.7168946449999999\n",
      "48.3095\n",
      "148.39620468023887\n"
     ]
    }
   ],
   "source": [
    "energy_J    = pruned_energy['Total']\n",
    "latency_s   = rep_latency['Total']\n",
    "avgPower_W  = energy_J/latency_s\n",
    "print(energy_J*1e6\n",
    "      )\n",
    "print(rep_summary['Latency_s']*10e3)\n",
    "print(avgPower_W*1e6)\n",
    "\n"
   ]
  }
 ],
 "metadata": {
  "kernelspec": {
   "display_name": "Python 3 (ipykernel)",
   "language": "python",
   "name": "python3"
  },
  "language_info": {
   "codemirror_mode": {
    "name": "ipython",
    "version": 3
   },
   "file_extension": ".py",
   "mimetype": "text/x-python",
   "name": "python",
   "nbconvert_exporter": "python",
   "pygments_lexer": "ipython3",
   "version": "3.10.4"
  }
 },
 "nbformat": 4,
 "nbformat_minor": 5
}
