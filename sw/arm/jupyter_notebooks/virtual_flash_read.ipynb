{
 "cells": [
  {
   "cell_type": "code",
   "execution_count": 1,
   "id": "130811ea",
   "metadata": {
    "scrolled": true
   },
   "outputs": [],
   "source": [
    "# Import the X-HEEP Python class\n",
    "from pynq import x_heep"
   ]
  },
  {
   "cell_type": "code",
   "execution_count": 2,
   "id": "e11233ef",
   "metadata": {
    "scrolled": true
   },
   "outputs": [
    {
     "data": {
      "application/javascript": "\ntry {\nrequire(['notebook/js/codecell'], function(codecell) {\n  codecell.CodeCell.options_default.highlight_modes[\n      'magic_text/x-csrc'] = {'reg':[/^%%microblaze/]};\n  Jupyter.notebook.events.one('kernel_ready.Kernel', function(){\n      Jupyter.notebook.get_cells().map(function(cell){\n          if (cell.cell_type == 'code'){ cell.auto_highlight(); } }) ;\n  });\n});\n} catch (e) {};\n"
     },
     "metadata": {},
     "output_type": "display_data"
    },
    {
     "data": {
      "application/javascript": "\ntry {\nrequire(['notebook/js/codecell'], function(codecell) {\n  codecell.CodeCell.options_default.highlight_modes[\n      'magic_text/x-csrc'] = {'reg':[/^%%pybind11/]};\n  Jupyter.notebook.events.one('kernel_ready.Kernel', function(){\n      Jupyter.notebook.get_cells().map(function(cell){\n          if (cell.cell_type == 'code'){ cell.auto_highlight(); } }) ;\n  });\n});\n} catch (e) {};\n"
     },
     "metadata": {},
     "output_type": "display_data"
    }
   ],
   "source": [
    "# Load the X-HEEP bitstream\n",
    "x_heep = x_heep()"
   ]
  },
  {
   "cell_type": "code",
   "execution_count": 3,
   "id": "c3a0bfee",
   "metadata": {
    "scrolled": true
   },
   "outputs": [
    {
     "name": "stdout",
     "output_type": "stream",
     "text": [
      "✅ Compile SUCCESS\n"
     ]
    }
   ],
   "source": [
    "# Compile the application\n",
    "x_heep.compile_app(\"virtual_flash_read\");"
   ]
  },
  {
   "cell_type": "code",
   "execution_count": 4,
   "id": "22a4bdca",
   "metadata": {
    "scrolled": true
   },
   "outputs": [],
   "source": [
    "# Init the Flash\n",
    "flash = x_heep.init_flash()"
   ]
  },
  {
   "cell_type": "code",
   "execution_count": 5,
   "id": "0dc5421c",
   "metadata": {},
   "outputs": [],
   "source": [
    "# Reset the Flash\n",
    "x_heep.reset_flash(flash)"
   ]
  },
  {
   "cell_type": "code",
   "execution_count": 6,
   "id": "430eed9e",
   "metadata": {},
   "outputs": [],
   "source": [
    "# Write the Flash\n",
    "x_heep.write_flash(flash)"
   ]
  },
  {
   "cell_type": "code",
   "execution_count": 7,
   "id": "2661773a",
   "metadata": {
    "scrolled": true
   },
   "outputs": [
    {
     "name": "stdout",
     "output_type": "stream",
     "text": [
      "0: 0x00000000\n",
      "1: 0x00000001\n",
      "2: 0x00000002\n",
      "3: 0x00000003\n",
      "4: 0x00000004\n",
      "5: 0x00000005\n",
      "6: 0x00000006\n",
      "7: 0x00000007\n",
      "8: 0x00000008\n",
      "9: 0x00000009\n",
      "10: 0x0000000A\n",
      "11: 0x0000000B\n",
      "12: 0x0000000C\n",
      "13: 0x0000000D\n",
      "14: 0x0000000E\n",
      "15: 0x0000000F\n",
      "16: 0x00000010\n",
      "17: 0x00000011\n",
      "18: 0x00000012\n",
      "19: 0x00000013\n",
      "20: 0x00000014\n",
      "21: 0x00000015\n",
      "22: 0x00000016\n",
      "23: 0x00000017\n",
      "24: 0x00000018\n",
      "25: 0x00000019\n",
      "26: 0x0000001A\n",
      "27: 0x0000001B\n",
      "28: 0x0000001C\n",
      "29: 0x0000001D\n",
      "30: 0x0000001E\n",
      "31: 0x0000001F\n",
      "✅ Return SUCCESS\n",
      " \n",
      "\r"
     ]
    }
   ],
   "source": [
    "t, sf = x_heep.thread_start()   # Start a background thread that reads from the UART\n",
    "out, _ = x_heep.run_app()       # Run the application (disregarding the error output)\n",
    "x_heep.thread_stop(t, sf)       # Stop the background thread that reads from the UART"
   ]
  },
  {
   "cell_type": "code",
   "execution_count": 8,
   "id": "827f1641",
   "metadata": {
    "scrolled": true
   },
   "outputs": [],
   "source": [
    "# Delete flash\n",
    "del flash"
   ]
  }
 ],
 "metadata": {
  "kernelspec": {
   "display_name": "Python 3 (ipykernel)",
   "language": "python",
   "name": "python3"
  }
 },
 "nbformat": 4,
 "nbformat_minor": 5
}
