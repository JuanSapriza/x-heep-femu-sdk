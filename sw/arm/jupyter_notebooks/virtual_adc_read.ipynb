{
 "cells": [
  {
   "attachments": {},
   "cell_type": "markdown",
   "id": "9a4c49a0",
   "metadata": {},
   "source": [
    "# Virtual ADC example\n",
    "---\n"
   ]
  },
  {
   "attachments": {},
   "cell_type": "markdown",
   "id": "2fd59f4a",
   "metadata": {},
   "source": [
    "## Load the bitstream into the Programmable Logic"
   ]
  },
  {
   "cell_type": "code",
   "execution_count": 79,
   "id": "130811ea",
   "metadata": {
    "scrolled": true
   },
   "outputs": [],
   "source": [
    "# Import the X-HEEP Python class\n",
    "from pynq import x_heep as xh\n",
    "# Load the X-HEEP bitstream\n",
    "x_heep = xh()"
   ]
  },
  {
   "attachments": {},
   "cell_type": "markdown",
   "id": "c9e56e3e",
   "metadata": {},
   "source": [
    "## Generate a random array to use as input signal "
   ]
  },
  {
   "cell_type": "code",
   "execution_count": 107,
   "id": "3b18fcf9",
   "metadata": {},
   "outputs": [
    {
     "name": "stdout",
     "output_type": "stream",
     "text": [
      "Generated Array: [68 64 49 21 58 16 51 17 59 91 66 30 87 64 35 50 75 89 65 34 75 66 99  4\n",
      " 36 76 88 47 32 74 60 73]\n",
      "[68 64 49 21 58 16 51 17 59 91 66 30 87 64 35 50 75 89 65 34 75 66 99  4\n",
      " 36 76 88 47 32 74 60 73]\n"
     ]
    }
   ],
   "source": [
    "import numpy as np\n",
    "# Set the seed for reproducibility (optional)\n",
    "np.random.seed(43)\n",
    "\n",
    "# Generate a random integer array\n",
    "array_size = 32\n",
    "rand_in = np.random.randint(0, 100, size=array_size, dtype=np.int32)\n",
    "\n",
    "# Print the generated array\n",
    "print(\"Generated Array:\", rand_in)\n",
    "\n",
    "# Save the array to a binary file\n",
    "file_path = \"/home/xilinx/x-heep-femu-sdk/sw/riscv/apps/virtual_adc_read/adc_in.bin\"\n",
    "data = rand_in.copy()\n",
    "with open(file_path, 'wb') as file:\n",
    "    data.byteswap(True).tofile(file)"
   ]
  },
  {
   "attachments": {},
   "cell_type": "markdown",
   "id": "b693f119",
   "metadata": {},
   "source": [
    "## Compile the code and run the application\n",
    "You can change the variable `SKIP_COMPILE` to 0 to avoid compiling each time."
   ]
  },
  {
   "cell_type": "code",
   "execution_count": 111,
   "id": "37d96249",
   "metadata": {},
   "outputs": [
    {
     "name": "stdout",
     "output_type": "stream",
     "text": [
      "✅ Return SUCCESS\n",
      " 68, 64, 49, 21, 58, 16, 51, 17, 59, 91, 66, 30, 87, 64, 35, 50, 75, 89, 65, 34, 75, 66, 99, 04, 36, 76, 88, 47, 32, 74, 60, 73, \n"
     ]
    }
   ],
   "source": [
    "from pynq import x_heep as xh\n",
    "# This will automatically make accessible the changes made in the sdk\n",
    "%reload_ext autoreload \n",
    "\n",
    "# Skip compiling if all you want to do is run the application\n",
    "SKIP_COMPILE = 1\n",
    "\n",
    "# Compile the application\n",
    "if SKIP_COMPILE or x_heep.compile_app(\"virtual_adc_read\"):\n",
    "    adc = x_heep.init_adc_mem() # Init the ADC memory\n",
    "    x_heep.reset_adc_mem(adc)   # Reset the ADC memory\n",
    "    x_heep.write_adc_mem(adc)   # Write the ADC memory\n",
    "    out, _ = x_heep.run_app()   # Run the application. Disregard the error output"
   ]
  },
  {
   "attachments": {},
   "cell_type": "markdown",
   "id": "e5984a04",
   "metadata": {},
   "source": [
    "### Check if the CPU's output is the same as the input"
   ]
  },
  {
   "cell_type": "code",
   "execution_count": 110,
   "id": "155c59b1",
   "metadata": {},
   "outputs": [
    {
     "name": "stdout",
     "output_type": "stream",
     "text": [
      "[68, 64, 49, 21, 58, 16, 51, 17, 59, 91, 66, 30, 87, 64, 35, 50, 75, 89, 65, 34, 75, 66, 99, 4, 36, 76, 88, 47, 32, 74, 60, 73]\n",
      "✅ Success\n"
     ]
    }
   ],
   "source": [
    "app_out = [int(x) for x in out.split(',') if x.strip()]\n",
    "if app_out == list(rand_in): print(\"✅ Success\")\n",
    "else: print(\"❌ Failed\")\n"
   ]
  }
 ],
 "metadata": {
  "kernelspec": {
   "display_name": "Python 3 (ipykernel)",
   "language": "python",
   "name": "python3"
  },
  "language_info": {
   "codemirror_mode": {
    "name": "ipython",
    "version": 3
   },
   "file_extension": ".py",
   "mimetype": "text/x-python",
   "name": "python",
   "nbconvert_exporter": "python",
   "pygments_lexer": "ipython3",
   "version": "3.10.4"
  }
 },
 "nbformat": 4,
 "nbformat_minor": 5
}
