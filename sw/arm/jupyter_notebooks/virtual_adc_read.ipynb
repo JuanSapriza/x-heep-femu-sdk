{
 "cells": [
  {
   "cell_type": "markdown",
   "id": "9a4c49a0",
   "metadata": {},
   "source": [
    "# Virtual ADC example\n",
    "---\n"
   ]
  },
  {
   "cell_type": "markdown",
   "id": "2fd59f4a",
   "metadata": {},
   "source": [
    "## Load the bitstream into the Programmable Logic"
   ]
  },
  {
   "cell_type": "code",
   "execution_count": 27,
   "id": "130811ea",
   "metadata": {
    "scrolled": true,
    "vscode": {
     "languageId": "python"
    }
   },
   "outputs": [],
   "source": [
    "# Import the X-HEEP Python class\n",
    "from pynq import x_heep\n",
    "# Load the X-HEEP bitstream\n",
    "xh = x_heep()"
   ]
  },
  {
   "cell_type": "code",
   "execution_count": 28,
   "id": "e0025ac1",
   "metadata": {
    "vscode": {
     "languageId": "python"
    }
   },
   "outputs": [
    {
     "name": "stdout",
     "output_type": "stream",
     "text": [
      "3.10.4 (main, Apr  2 2022, 09:04:19) [GCC 11.2.0]\n",
      "['/home/xilinx', '/usr/lib/python310.zip', '/usr/lib/python3.10', '/usr/lib/python3.10/lib-dynload', '', '/usr/local/share/pynq-venv/lib/python3.10/site-packages', '/usr/local/lib/python3.10/dist-packages', '/usr/lib/python3/dist-packages', '/usr/lib/python3.10/dist-packages', '/home/xilinx/x-heep-femu-sdk/sw/arm/sdk/']\n"
     ]
    }
   ],
   "source": [
    "import sys\n",
    "print(sys.version)\n",
    "print(sys.path)\n"
   ]
  },
  {
   "cell_type": "markdown",
   "id": "c9e56e3e",
   "metadata": {},
   "source": [
    "## Generate a random array to use as input signal "
   ]
  },
  {
   "cell_type": "code",
   "execution_count": 29,
   "id": "3b18fcf9",
   "metadata": {
    "vscode": {
     "languageId": "python"
    }
   },
   "outputs": [
    {
     "name": "stdout",
     "output_type": "stream",
     "text": [
      "Generated Array: [61 69 40 58 19 18 75 93 60 27 80  2 72 32 31 55 22 98 59 79 30 98  2 22\n",
      " 87 72 48  2 40 72 76  1]\n"
     ]
    }
   ],
   "source": [
    "import numpy as np\n",
    "# Set the seed for reproducibility (optional)\n",
    "np.random.seed(46)\n",
    "\n",
    "# Generate a random integer array\n",
    "array_size = 32\n",
    "rand_in = np.random.randint(0, 100, size=array_size, dtype=np.int32)\n",
    "\n",
    "# Print the generated array\n",
    "print(\"Generated Array:\", rand_in)\n",
    "\n",
    "# Save the array to a binary file\n",
    "file_path = \"/home/xilinx/x-heep-femu-sdk/sw/riscv/apps/virtual_adc_read/adc_in.bin\"\n",
    "data = rand_in.copy()\n",
    "with open(file_path, 'wb') as file:\n",
    "    data.byteswap(True).tofile(file)"
   ]
  },
  {
   "cell_type": "markdown",
   "id": "b693f119",
   "metadata": {},
   "source": [
    "## Compile the code and run the application\n",
    "You can change the variable `SKIP_COMPILE` to 1 to avoid compiling each time."
   ]
  },
  {
   "cell_type": "code",
   "execution_count": 30,
   "id": "37d96249",
   "metadata": {
    "vscode": {
     "languageId": "python"
    }
   },
   "outputs": [
    {
     "name": "stdout",
     "output_type": "stream",
     "text": [
      "✅ Compile SUCCESS\n",
      "✅ Return SUCCESS\n",
      " \n"
     ]
    }
   ],
   "source": [
    "# This will automatically make accessible the changes made in the sdk\n",
    "%reload_ext autoreload \n",
    "\n",
    "# Skip compiling if all you want to do is run the application\n",
    "SKIP_COMPILE = 0\n",
    "\n",
    "# Compile the application\n",
    "if SKIP_COMPILE or xh.compile_app(\"virtual_adc_read\"):\n",
    "    adc = xh.init_adc_mem() # Init the ADC memory\n",
    "    xh.reset_adc_mem(adc)   # Reset the ADC memory\n",
    "    xh.write_adc_mem(adc)   # Write the ADC memory\n",
    "\n",
    "    t, sf = xh.thread_start()   # Start a background thread that reads from the UART\n",
    "    out, _ = xh.run_app()       # Run the application (disregarding the error output)\n",
    "    xh.thread_stop(t, sf)       # Stop the background thread that reads from the UART"
   ]
  },
  {
   "attachments": {},
   "cell_type": "markdown",
   "id": "e5984a04",
   "metadata": {},
   "source": [
    "### Check if the CPU's output is the same as the expected result\n",
    "\n",
    "The application is supposed to make the difference of every consecutive pair:\n",
    "\n",
    "$y[0] = x[0]$\n",
    "\n",
    "$y[i] = x[i] - x[i-1]$ \n",
    "\n",
    "$i \\in (0,N]$"
   ]
  },
  {
   "cell_type": "code",
   "execution_count": 31,
   "id": "155c59b1",
   "metadata": {
    "vscode": {
     "languageId": "python"
    }
   },
   "outputs": [
    {
     "name": "stdout",
     "output_type": "stream",
     "text": [
      "✅ SUCCESS\n"
     ]
    }
   ],
   "source": [
    "app_out = [int(x) for x in xh.uart_data if x.strip()]\n",
    "\n",
    "exp_out = [rand_in[i] - rand_in[i-1] for i in range(1, len(rand_in))]\n",
    "\n",
    "if all([a == e for a,e in zip(app_out, exp_out)]): print(\"✅ SUCCESS\")\n",
    "else: print(\"❌ FAILED\")\n"
   ]
  },
  {
   "attachments": {},
   "cell_type": "markdown",
   "id": "35374e96",
   "metadata": {},
   "source": [
    "## Plot the input and output"
   ]
  },
  {
   "cell_type": "code",
   "execution_count": 32,
   "id": "a08fa0cc",
   "metadata": {
    "vscode": {
     "languageId": "python"
    }
   },
   "outputs": [
    {
     "data": {
      "text/plain": [
       "<matplotlib.legend.Legend at 0xa94562c8>"
      ]
     },
     "execution_count": 32,
     "metadata": {},
     "output_type": "execute_result"
    },
    {
     "data": {
      "image/png": "[encoded data removed]",
      "text/plain": [
       "<Figure size 432x288 with 1 Axes>"
      ]
     },
     "metadata": {
      "needs_background": "light"
     },
     "output_type": "display_data"
    }
   ],
   "source": [
    "import matplotlib.pyplot as plt\n",
    "\n",
    "plt.plot(rand_in)\n",
    "plt.plot(app_out)\n",
    "\n",
    "plt.legend([\"Input\", \"Difference\"])\n",
    "\n"
   ]
  }
 ],
 "metadata": {
  "kernelspec": {
   "display_name": "Python 3 (ipykernel)",
   "language": "python",
   "name": "python3"
  }
 },
 "nbformat": 4,
 "nbformat_minor": 5
}
