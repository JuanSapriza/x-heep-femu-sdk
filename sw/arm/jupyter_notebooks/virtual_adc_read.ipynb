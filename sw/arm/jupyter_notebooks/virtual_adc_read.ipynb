{
 "cells": [
  {
   "cell_type": "markdown",
   "id": "9a4c49a0",
   "metadata": {},
   "source": [
    "# Virtual ADC example\n",
    "---\n"
   ]
  },
  {
   "cell_type": "markdown",
   "id": "2fd59f4a",
   "metadata": {},
   "source": [
    "## Load the bitstream into the Programmable Logic"
   ]
  },
  {
   "cell_type": "code",
   "execution_count": null,
   "id": "130811ea",
   "metadata": {
    "scrolled": true
   },
   "outputs": [],
   "source": [
    "# Import the X-HEEP Python class\n",
    "from pynq import x_heep\n",
    "# Load the X-HEEP bitstream\n",
    "xh = x_heep()"
   ]
  },
  {
   "cell_type": "code",
   "execution_count": null,
   "id": "e0025ac1",
   "metadata": {},
   "outputs": [],
   "source": [
    "import sys\n",
    "print(sys.version)\n",
    "print(sys.path)\n"
   ]
  },
  {
   "cell_type": "markdown",
   "id": "c9e56e3e",
   "metadata": {},
   "source": [
    "## Generate a random array to use as input signal "
   ]
  },
  {
   "cell_type": "code",
   "execution_count": null,
   "id": "3b18fcf9",
   "metadata": {},
   "outputs": [],
   "source": [
    "import numpy as np\n",
    "# Set the seed for reproducibility (optional)\n",
    "np.random.seed(46)\n",
    "\n",
    "# Generate a random integer array\n",
    "array_size = 32\n",
    "rand_in = np.random.randint(0, 100, size=array_size, dtype=np.int32)\n",
    "\n",
    "# Print the generated array\n",
    "print(\"Generated Array:\", rand_in)\n",
    "\n",
    "# Save the array to a binary file\n",
    "file_path = \"/home/xilinx/x-heep-femu-sdk/sw/riscv/apps/virtual_adc_read/adc_in.bin\"\n",
    "data = rand_in.copy()\n",
    "with open(file_path, 'wb') as file:\n",
    "    data.byteswap(True).tofile(file)"
   ]
  },
  {
   "cell_type": "markdown",
   "id": "b693f119",
   "metadata": {},
   "source": [
    "## Compile the code and run the application\n",
    "You can change the variable `SKIP_COMPILE` to 1 to avoid compiling each time."
   ]
  },
  {
   "cell_type": "code",
   "execution_count": null,
   "id": "37d96249",
   "metadata": {},
   "outputs": [],
   "source": [
    "# This will automatically make accessible the changes made in the sdk\n",
    "%reload_ext autoreload \n",
    "\n",
    "# Skip compiling if all you want to do is run the application\n",
    "SKIP_COMPILE = 0\n",
    "\n",
    "# Compile the application\n",
    "if SKIP_COMPILE or xh.compile_app(\"virtual_adc_read\"):\n",
    "    adc = xh.init_adc_mem() # Init the ADC memory\n",
    "    xh.reset_adc_mem(adc)   # Reset the ADC memory\n",
    "    xh.write_adc_mem(adc)   # Write the ADC memory\n",
    "\n",
    "    t, sf = xh.thread_start()   # Start a background thread that reads from the UART\n",
    "    out, _ = xh.run_app()       # Run the application (disregarding the error output)\n",
    "    xh.thread_stop(t, sf)       # Stop the background thread that reads from the UART"
   ]
  },
  {
   "attachments": {},
   "cell_type": "markdown",
   "id": "e5984a04",
   "metadata": {},
   "source": [
    "### Check if the CPU's output is the same as the expected result\n",
    "\n",
    "The application is supposed to make the difference of every consecutive pair:\n",
    "\n",
    "$y[0] = x[0]$\n",
    "\n",
    "$y[i] = x[i] - x[i-1]$ \n",
    "\n",
    "$i \\in (0,N]$"
   ]
  },
  {
   "cell_type": "code",
   "execution_count": null,
   "id": "155c59b1",
   "metadata": {},
   "outputs": [],
   "source": [
    "app_out = [int(x) for x in xh.uart_data if x.strip()]\n",
    "\n",
    "exp_out = [rand_in[i] - rand_in[i-1] for i in range(1, len(rand_in))]\n",
    "\n",
    "if all([a == e for a,e in zip(app_out, exp_out)]): print(\"✅ SUCCESS\")\n",
    "else: print(\"❌ FAILED\")\n"
   ]
  },
  {
   "attachments": {},
   "cell_type": "markdown",
   "id": "35374e96",
   "metadata": {},
   "source": [
    "## Plot the input and output"
   ]
  },
  {
   "cell_type": "code",
   "execution_count": null,
   "id": "a08fa0cc",
   "metadata": {},
   "outputs": [],
   "source": [
    "import matplotlib.pyplot as plt\n",
    "\n",
    "plt.plot(rand_in)\n",
    "plt.plot(app_out)\n",
    "\n",
    "plt.legend([\"Input\", \"Difference\"])\n",
    "\n"
   ]
  }
 ],
 "metadata": {
  "kernelspec": {
   "display_name": "Python 3 (ipykernel)",
   "language": "python",
   "name": "python3"
  },
  "language_info": {
   "codemirror_mode": {
    "name": "ipython",
    "version": 3
   },
   "file_extension": ".py",
   "mimetype": "text/x-python",
   "name": "python",
   "nbconvert_exporter": "python",
   "pygments_lexer": "ipython3",
   "version": "3.10.4"
  }
 },
 "nbformat": 4,
 "nbformat_minor": 5
}
