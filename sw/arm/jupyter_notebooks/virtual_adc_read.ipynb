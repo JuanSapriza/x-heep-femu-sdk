{
 "cells": [
  {
   "cell_type": "code",
   "execution_count": null,
   "id": "130811ea",
   "metadata": {
    "scrolled": true
   },
   "outputs": [],
   "source": [
    "# Import the X-HEEP Python class\n",
    "from pynq import x_heep"
   ]
  },
  {
   "cell_type": "code",
   "execution_count": null,
   "id": "e11233ef",
   "metadata": {
    "scrolled": true
   },
   "outputs": [],
   "source": [
    "# Load the X-HEEP bitstream\n",
    "x_heep = x_heep()"
   ]
  },
  {
   "cell_type": "code",
   "execution_count": null,
   "id": "37d96249",
   "metadata": {},
   "outputs": [],
   "source": [
    "# Compile the application\n",
    "x_heep.compile_app(\"virtual_adc_read\")"
   ]
  },
  {
   "cell_type": "code",
   "execution_count": null,
   "id": "b6a2e17d",
   "metadata": {},
   "outputs": [],
   "source": [
    "# Init the ADC memory\n",
    "adc = x_heep.init_adc_mem()"
   ]
  },
  {
   "cell_type": "code",
   "execution_count": null,
   "id": "83ad80fc",
   "metadata": {},
   "outputs": [],
   "source": [
    "# Reset the ADC memory\n",
    "x_heep.reset_adc_mem(adc)"
   ]
  },
  {
   "cell_type": "code",
   "execution_count": null,
   "id": "23c2adb4",
   "metadata": {},
   "outputs": [],
   "source": [
    "# Write the ADC memory\n",
    "x_heep.write_adc_mem(adc)"
   ]
  },
  {
   "cell_type": "code",
   "execution_count": null,
   "id": "9c5429d6",
   "metadata": {},
   "outputs": [],
   "source": [
    "# Run the application\n",
    "x_heep.run_app()"
   ]
  },
  {
   "cell_type": "code",
   "execution_count": null,
   "id": "ce8e1af0",
   "metadata": {},
   "outputs": [],
   "source": [
    "# Delete adc\n",
    "del adc"
   ]
  },
  {
   "cell_type": "code",
   "execution_count": null,
   "id": "39a01ba8",
   "metadata": {},
   "outputs": [],
   "source": [
    "# Verify the output\n",
    "file_expected = open(\"/home/xilinx/x-heep-femu-sdk/sw/riscv/build/adc_in.bin\", mode=\"rb\")\n",
    "expected_byte = file_expected.read()\n",
    "file_stdout = open(\"/home/xilinx/x-heep-femu-sdk/sw/riscv/build/stdout.txt\", \"r\")\n",
    "stdout_byte = file_stdout.readlines()\n",
    "\n",
    "allEqual = True\n",
    "for i in range(int(len(expected_byte)/4)):\n",
    "    written = int((expected_byte[i*4] << 24) | (expected_byte[i*4+1] << 16) | (expected_byte[i*4+2] << 8) | expected_byte[i*4+3])\n",
    "    read = int(stdout_byte[2*i].strip().split(\" \")[1], 16)\n",
    "    if written != read:\n",
    "        allEqual = False\n",
    "        break\n",
    "        \n",
    "if allEqual:\n",
    "    print(\"Test Passed!\")\n",
    "else:\n",
    "    print(\"Test Failed!\")"
   ]
  }
 ],
 "metadata": {
  "kernelspec": {
   "display_name": "Python 3 (ipykernel)",
   "language": "python",
   "name": "python3"
  },
  "language_info": {
   "codemirror_mode": {
    "name": "ipython",
    "version": 3
   },
   "file_extension": ".py",
   "mimetype": "text/x-python",
   "name": "python",
   "nbconvert_exporter": "python",
   "pygments_lexer": "ipython3",
   "version": "3.10.4"
  }
 },
 "nbformat": 4,
 "nbformat_minor": 5
}
