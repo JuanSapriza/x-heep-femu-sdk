{
 "cells": [
  {
   "cell_type": "code",
   "execution_count": 1,
   "id": "130811ea",
   "metadata": {
    "scrolled": true
   },
   "outputs": [
    {
     "data": {
      "application/javascript": "\ntry {\nrequire(['notebook/js/codecell'], function(codecell) {\n  codecell.CodeCell.options_default.highlight_modes[\n      'magic_text/x-csrc'] = {'reg':[/^%%microblaze/]};\n  Jupyter.notebook.events.one('kernel_ready.Kernel', function(){\n      Jupyter.notebook.get_cells().map(function(cell){\n          if (cell.cell_type == 'code'){ cell.auto_highlight(); } }) ;\n  });\n});\n} catch (e) {};\n"
     },
     "metadata": {},
     "output_type": "display_data"
    },
    {
     "data": {
      "application/javascript": "\ntry {\nrequire(['notebook/js/codecell'], function(codecell) {\n  codecell.CodeCell.options_default.highlight_modes[\n      'magic_text/x-csrc'] = {'reg':[/^%%pybind11/]};\n  Jupyter.notebook.events.one('kernel_ready.Kernel', function(){\n      Jupyter.notebook.get_cells().map(function(cell){\n          if (cell.cell_type == 'code'){ cell.auto_highlight(); } }) ;\n  });\n});\n} catch (e) {};\n"
     },
     "metadata": {},
     "output_type": "display_data"
    }
   ],
   "source": [
    "# Import the X-HEEP Python class\n",
    "from pynq import x_heep\n",
    "# Load the X-HEEP bitstream\n",
    "x_heep = x_heep()"
   ]
  },
  {
   "cell_type": "code",
   "execution_count": 14,
   "id": "3b18fcf9",
   "metadata": {},
   "outputs": [
    {
     "name": "stdout",
     "output_type": "stream",
     "text": [
      "Generated Array: [51 92 14 71 60 20 82 86 74 74 87 99 23  2 21 52  1 87 29 37  1 63 59 20\n",
      " 32 75 57 21 88 48 90 58]\n"
     ]
    },
    {
     "ename": "TypeError",
     "evalue": "'byteorder' is an invalid keyword argument for tofile()",
     "output_type": "error",
     "traceback": [
      "\u001b[0;31m---------------------------------------------------------------------------\u001b[0m",
      "\u001b[0;31mTypeError\u001b[0m                                 Traceback (most recent call last)",
      "\u001b[1;32m/home/juan/Desktop/ESL/a_heepatia/pynq/x-heep-femu-sdk/sw/arm/jupyter_notebooks/virtual_adc_read.ipynb Cell 2\u001b[0m in \u001b[0;36m<cell line: 15>\u001b[0;34m()\u001b[0m\n\u001b[1;32m     <a href='vscode-notebook-cell:/home/juan/Desktop/ESL/a_heepatia/pynq/x-heep-femu-sdk/sw/arm/jupyter_notebooks/virtual_adc_read.ipynb#W4sZmlsZQ%3D%3D?line=13'>14</a>\u001b[0m file_path \u001b[39m=\u001b[39m \u001b[39m\"\u001b[39m\u001b[39m/home/xilinx/x-heep-femu-sdk/sw/riscv/apps/virtual_adc_read/adc_in.bin\u001b[39m\u001b[39m\"\u001b[39m\n\u001b[1;32m     <a href='vscode-notebook-cell:/home/juan/Desktop/ESL/a_heepatia/pynq/x-heep-femu-sdk/sw/arm/jupyter_notebooks/virtual_adc_read.ipynb#W4sZmlsZQ%3D%3D?line=14'>15</a>\u001b[0m \u001b[39mwith\u001b[39;00m \u001b[39mopen\u001b[39m(file_path, \u001b[39m'\u001b[39m\u001b[39mwb\u001b[39m\u001b[39m'\u001b[39m) \u001b[39mas\u001b[39;00m file:\n\u001b[0;32m---> <a href='vscode-notebook-cell:/home/juan/Desktop/ESL/a_heepatia/pynq/x-heep-femu-sdk/sw/arm/jupyter_notebooks/virtual_adc_read.ipynb#W4sZmlsZQ%3D%3D?line=15'>16</a>\u001b[0m     random_array\u001b[39m.\u001b[39;49mtofile(file, byteorder\u001b[39m=\u001b[39;49m\u001b[39m'\u001b[39;49m\u001b[39m<\u001b[39;49m\u001b[39m'\u001b[39;49m)\n",
      "\u001b[0;31mTypeError\u001b[0m: 'byteorder' is an invalid keyword argument for tofile()"
     ]
    }
   ],
   "source": [
    "import numpy as np\n",
    "\n",
    "# Set the seed for reproducibility (optional)\n",
    "np.random.seed(42)\n",
    "\n",
    "# Generate a random integer array\n",
    "array_size = 32\n",
    "random_array = np.random.randint(0, 100, size=array_size, dtype=np.int32)\n",
    "\n",
    "# Print the generated array\n",
    "print(\"Generated Array:\", random_array)\n",
    "\n",
    "# Save the array to a binary file\n",
    "file_path = \"/home/xilinx/x-heep-femu-sdk/sw/riscv/apps/virtual_adc_read/adc_in.bin\"\n",
    "with open(file_path, 'wb') as file:\n",
    "    random_array.byteswap(True).tofile(file)"
   ]
  },
  {
   "cell_type": "code",
   "execution_count": 13,
   "id": "37d96249",
   "metadata": {},
   "outputs": [
    {
     "name": "stdout",
     "output_type": "stream",
     "text": [
      "rm -rf build\n",
      "/tools/riscv/bin/riscv32-unknown-elf-gcc -march=rv32imc -o apps/virtual_adc_read/virtual_adc_read.elf -w -Os -g -nostdlib \\\n",
      "\t \\\n",
      "\t-DHOST_BUILD \\\n",
      "\t-T link/link.ld \\\n",
      "\t-I /tools/riscv/riscv32-unknown-elf/include \\\n",
      "\t-I lib/target/ -I lib/base/ -I lib/hal/dma/ -I lib/hal/fast_intr_ctrl/ -I lib/hal/gpio/ -I lib/hal/i2c/ -I lib/hal/pad_control/ -I lib/hal/power_manager/ -I lib/hal/rv_plic/ -I lib/hal/rv_timer/ -I lib/hal/soc_ctrl/ -I lib/hal/spi_host/ -I lib/hal/spi_memio/ -I lib/hal/uart/ -I lib/runtime/ \\\n",
      "\t-static \\\n",
      "\tlib/crt/crt0.S lib/crt/vectors.S \\\n",
      "\tapps/virtual_adc_read/virtual_adc_read.c lib/runtime/handler.c lib/runtime/init.c lib/runtime/syscalls.c \\\n",
      "\tlib/base/bitfield.c lib/base/memory.c lib/base/mmio.c \\\n",
      "\tlib/hal/soc_ctrl/soc_ctrl.c lib/hal/uart/uart.c lib/hal/rv_plic/rv_plic.c lib/hal/rv_timer/rv_timer.c lib/hal/gpio/gpio.c lib/hal/i2c/i2c.c lib/hal/dma/dma.c lib/hal/power_manager/power_manager.c lib/hal/fast_intr_ctrl/fast_intr_ctrl.c   lib/hal/spi_host/spi_host.c lib/hal/pad_control/pad_control.c \\\n",
      "\t-Wl,-Map=apps/virtual_adc_read/virtual_adc_read.map \\\n",
      "\t-L /tools/riscv/riscv32-unknown-elf/lib \\\n",
      "\t-lc -lm -lgcc -flto -ffunction-sections -fdata-sections -specs=nano.specs\n",
      "/tools/riscv/bin/riscv32-unknown-elf-objcopy -O binary apps/virtual_adc_read/virtual_adc_read.elf apps/virtual_adc_read/virtual_adc_read.bin\n",
      "/tools/riscv/bin/riscv32-unknown-elf-objdump -S apps/virtual_adc_read/virtual_adc_read.elf > apps/virtual_adc_read/virtual_adc_read.dis\n",
      "Compiled\n",
      "\n",
      "--- APPLICATION OUTPUT ---\n",
      "\n",
      "0: 0x33000000\n",
      "1: 0x5C000000\n",
      "2: 0x0E000000\n",
      "3: 0x47000000\n",
      "4: 0x3C000000\n",
      "5: 0x14000000\n",
      "6: 0x52000000\n",
      "7: 0x56000000\n",
      "8: 0x4A000000\n",
      "9: 0x4A000000\n",
      "10: 0x57000000\n",
      "11: 0x63000000\n",
      "12: 0x17000000\n",
      "13: 0x02000000\n",
      "14: 0x15000000\n",
      "15: 0x34000000\n",
      "16: 0x01000000\n",
      "17: 0x57000000\n",
      "18: 0x1D000000\n",
      "19: 0x25000000\n",
      "20: 0x01000000\n",
      "21: 0x3F000000\n",
      "22: 0x3B000000\n",
      "23: 0x14000000\n",
      "24: 0x20000000\n",
      "25: 0x4B000000\n",
      "26: 0x39000000\n",
      "27: 0x15000000\n",
      "28: 0x58000000\n",
      "29: 0x30000000\n",
      "30: 0x5A000000\n",
      "31: 0x3A000000\n",
      "\n"
     ]
    }
   ],
   "source": [
    "# Compile the application\n",
    "x_heep.compile_app(\"virtual_adc_read\")\n",
    "print(\"Compiled\")\n",
    "# Init the ADC memory\n",
    "adc = x_heep.init_adc_mem()\n",
    "# Reset the ADC memory\n",
    "x_heep.reset_adc_mem(adc)\n",
    "# Write the ADC memory\n",
    "x_heep.write_adc_mem(adc)\n",
    "# Run the application\n",
    "x_heep.run_app()"
   ]
  },
  {
   "cell_type": "code",
   "execution_count": 3,
   "id": "ce8e1af0",
   "metadata": {},
   "outputs": [],
   "source": [
    "# Delete adc\n",
    "del adc"
   ]
  }
 ],
 "metadata": {
  "kernelspec": {
   "display_name": "Python 3 (ipykernel)",
   "language": "python",
   "name": "python3"
  },
  "language_info": {
   "codemirror_mode": {
    "name": "ipython",
    "version": 3
   },
   "file_extension": ".py",
   "mimetype": "text/x-python",
   "name": "python",
   "nbconvert_exporter": "python",
   "pygments_lexer": "ipython3",
   "version": "3.10.4"
  }
 },
 "nbformat": 4,
 "nbformat_minor": 5
}
