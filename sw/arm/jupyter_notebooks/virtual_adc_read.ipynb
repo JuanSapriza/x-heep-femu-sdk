{
 "cells": [
  {
   "cell_type": "code",
   "execution_count": 13,
   "id": "130811ea",
   "metadata": {
    "scrolled": true
   },
   "outputs": [],
   "source": [
    "# Import the X-HEEP Python class\n",
    "from pynq import x_heep as xh\n",
    "# Load the X-HEEP bitstream\n",
    "x_heep = xh()"
   ]
  },
  {
   "cell_type": "code",
   "execution_count": 32,
   "id": "3b18fcf9",
   "metadata": {},
   "outputs": [
    {
     "name": "stdout",
     "output_type": "stream",
     "text": [
      "Generated Array: [68 64 49 21 58 16 51 17 59 91 66 30 87 64 35 50 75 89 65 34 75 66 99  4\n",
      " 36 76 88 47 32 74 60 73]\n"
     ]
    }
   ],
   "source": [
    "import numpy as np\n",
    "# Set the seed for reproducibility (optional)\n",
    "np.random.seed(43)\n",
    "\n",
    "# Generate a random integer array\n",
    "array_size = 32\n",
    "random_array = np.random.randint(0, 100, size=array_size, dtype=np.int32)\n",
    "\n",
    "# Print the generated array\n",
    "print(\"Generated Array:\", random_array)\n",
    "\n",
    "# Save the array to a binary file\n",
    "file_path = \"/home/xilinx/x-heep-femu-sdk/sw/riscv/apps/virtual_adc_read/adc_in.bin\"\n",
    "with open(file_path, 'wb') as file:\n",
    "    random_array.byteswap(True).tofile(file)"
   ]
  },
  {
   "cell_type": "code",
   "execution_count": 78,
   "id": "37d96249",
   "metadata": {},
   "outputs": [
    {
     "name": "stdout",
     "output_type": "stream",
     "text": [
      "✅ Compile success\n",
      "✅ Return SUCCESS\n",
      " 68, 64, 49, 21, 58, 16, 51, 17, 59, 91, 66, 30, 87, 64, 35, 50, 75, 89, 65, 34, 75, 66, 99, 04, 36, 76, 88, 47, 32, 74, 60, 73, \n"
     ]
    }
   ],
   "source": [
    "from pynq import x_heep as xh\n",
    "%reload_ext autoreload\n",
    "# %autoreload 2\n",
    "\n",
    "# Compile the application\n",
    "if x_heep.compile_app(\"virtual_adc_read\"):\n",
    "    adc = x_heep.init_adc_mem() # Init the ADC memory\n",
    "    x_heep.reset_adc_mem(adc)   # Reset the ADC memory\n",
    "    x_heep.write_adc_mem(adc)   # Write the ADC memory\n",
    "    x_heep.run_app()            # Run the application"
   ]
  }
 ],
 "metadata": {
  "kernelspec": {
   "display_name": "Python 3 (ipykernel)",
   "language": "python",
   "name": "python3"
  },
  "language_info": {
   "codemirror_mode": {
    "name": "ipython",
    "version": 3
   },
   "file_extension": ".py",
   "mimetype": "text/x-python",
   "name": "python",
   "nbconvert_exporter": "python",
   "pygments_lexer": "ipython3",
   "version": "3.10.4"
  }
 },
 "nbformat": 4,
 "nbformat_minor": 5
}
