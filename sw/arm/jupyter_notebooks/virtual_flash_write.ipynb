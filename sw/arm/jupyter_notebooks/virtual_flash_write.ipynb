{
 "cells": [
  {
   "cell_type": "code",
   "execution_count": 1,
   "id": "130811ea",
   "metadata": {
    "scrolled": true
   },
   "outputs": [],
   "source": [
    "# Import the X-HEEP Python class\n",
    "from pynq import x_heep"
   ]
  },
  {
   "cell_type": "code",
   "execution_count": 2,
   "id": "e11233ef",
   "metadata": {
    "scrolled": true
   },
   "outputs": [
    {
     "data": {
      "application/javascript": "\ntry {\nrequire(['notebook/js/codecell'], function(codecell) {\n  codecell.CodeCell.options_default.highlight_modes[\n      'magic_text/x-csrc'] = {'reg':[/^%%microblaze/]};\n  Jupyter.notebook.events.one('kernel_ready.Kernel', function(){\n      Jupyter.notebook.get_cells().map(function(cell){\n          if (cell.cell_type == 'code'){ cell.auto_highlight(); } }) ;\n  });\n});\n} catch (e) {};\n"
     },
     "metadata": {},
     "output_type": "display_data"
    },
    {
     "data": {
      "application/javascript": "\ntry {\nrequire(['notebook/js/codecell'], function(codecell) {\n  codecell.CodeCell.options_default.highlight_modes[\n      'magic_text/x-csrc'] = {'reg':[/^%%pybind11/]};\n  Jupyter.notebook.events.one('kernel_ready.Kernel', function(){\n      Jupyter.notebook.get_cells().map(function(cell){\n          if (cell.cell_type == 'code'){ cell.auto_highlight(); } }) ;\n  });\n});\n} catch (e) {};\n"
     },
     "metadata": {},
     "output_type": "display_data"
    }
   ],
   "source": [
    "# Load the X-HEEP bitstream\n",
    "x_heep = x_heep()"
   ]
  },
  {
   "cell_type": "code",
   "execution_count": 9,
   "id": "c3a0bfee",
   "metadata": {
    "scrolled": true
   },
   "outputs": [
    {
     "name": "stdout",
     "output_type": "stream",
     "text": [
      "✅ Compile SUCCESS\n"
     ]
    }
   ],
   "source": [
    "# Compile the application\n",
    "x_heep.compile_app(\"virtual_flash_write\");"
   ]
  },
  {
   "cell_type": "code",
   "execution_count": 4,
   "id": "22a4bdca",
   "metadata": {
    "scrolled": true
   },
   "outputs": [],
   "source": [
    "# Init the Flash\n",
    "flash = x_heep.init_flash()"
   ]
  },
  {
   "cell_type": "code",
   "execution_count": 5,
   "id": "0dc5421c",
   "metadata": {},
   "outputs": [],
   "source": [
    "# Reset the Flash\n",
    "x_heep.reset_flash(flash)"
   ]
  },
  {
   "cell_type": "code",
   "execution_count": 11,
   "id": "2661773a",
   "metadata": {
    "scrolled": true
   },
   "outputs": [
    {
     "name": "stdout",
     "output_type": "stream",
     "text": [
      "Done.\n",
      "✅ Return SUCCESS\n",
      " \n",
      "\r"
     ]
    }
   ],
   "source": [
    "t, sf = x_heep.thread_start()   # Start a background thread that reads from the UART\n",
    "out, _ = x_heep.run_app()       # Run the application (disregarding the error output)\n",
    "x_heep.thread_stop(t, sf)       # Stop the background thread that reads from the UART"
   ]
  },
  {
   "cell_type": "code",
   "execution_count": 7,
   "id": "79246797",
   "metadata": {
    "scrolled": true
   },
   "outputs": [],
   "source": [
    "# Read the Flash\n",
    "x_heep.read_flash(flash)"
   ]
  },
  {
   "cell_type": "code",
   "execution_count": 8,
   "id": "827f1641",
   "metadata": {
    "scrolled": true
   },
   "outputs": [],
   "source": [
    "# Delete flash\n",
    "del flash"
   ]
  }
 ],
 "metadata": {
  "kernelspec": {
   "display_name": "Python 3 (ipykernel)",
   "language": "python",
   "name": "python3"
  }
 },
 "nbformat": 4,
 "nbformat_minor": 5
}
