{
 "cells": [
  {
   "cell_type": "code",
   "execution_count": 15,
   "id": "130811ea",
   "metadata": {
    "scrolled": true
   },
   "outputs": [],
   "source": [
    "# Import the X-HEEP Python class\n",
    "from pynq import x_heep"
   ]
  },
  {
   "cell_type": "code",
   "execution_count": 16,
   "id": "e11233ef",
   "metadata": {
    "scrolled": true
   },
   "outputs": [],
   "source": [
    "# Load the X-HEEP bitstream\n",
    "x_heep = x_heep()"
   ]
  },
  {
   "cell_type": "code",
   "execution_count": 17,
   "id": "37d96249",
   "metadata": {},
   "outputs": [
    {
     "name": "stdout",
     "output_type": "stream",
     "text": [
      "✅ Compile SUCCESS\n"
     ]
    },
    {
     "data": {
      "text/plain": [
       "True"
      ]
     },
     "execution_count": 17,
     "metadata": {},
     "output_type": "execute_result"
    }
   ],
   "source": [
    "# Compile the application\n",
    "x_heep.compile_app(\"virtual_adc_read\")"
   ]
  },
  {
   "cell_type": "code",
   "execution_count": 18,
   "id": "2c4c3235",
   "metadata": {},
   "outputs": [],
   "source": [
    "# Init the Virtual ADC component and the buffer in the DDR\n",
    "size = 200\n",
    "virtual_adc, DDR_buffer = x_heep.init_virtual_adc(size)"
   ]
  },
  {
   "cell_type": "code",
   "execution_count": 19,
   "id": "23c2adb4",
   "metadata": {},
   "outputs": [],
   "source": [
    "# Write the Virtual ADC memory\n",
    "x_heep.start_virtual_adc(virtual_adc,DDR_buffer, \"/home/xilinx/x-heep-femu-sdk/sw/riscv/apps/virtual_adc_read/ADC_data.bin\", size)"
   ]
  },
  {
   "cell_type": "code",
   "execution_count": 20,
   "id": "9c5429d6",
   "metadata": {},
   "outputs": [
    {
     "name": "stdout",
     "output_type": "stream",
     "text": [
      "✅ Return SUCCESS\n",
      " \n"
     ]
    },
    {
     "data": {
      "text/plain": [
       "('', '')"
      ]
     },
     "execution_count": 20,
     "metadata": {},
     "output_type": "execute_result"
    }
   ],
   "source": [
    "t, sf = x_heep.thread_start(True)   # Start a background thread that reads from the UART\n",
    "\n",
    "out, _ = x_heep.run_app()           # Run the application (disregarding the error output)\n",
    "\n",
    "x_heep.thread_stop(t, sf)  "
   ]
  },
  {
   "cell_type": "code",
   "execution_count": 21,
   "id": "ce8e1af0",
   "metadata": {},
   "outputs": [],
   "source": [
    "# Delete adc\n",
    "del virtual_adc\n",
    "del DDR_buffer"
   ]
  }
 ],
 "metadata": {
  "kernelspec": {
   "display_name": "Python 3 (ipykernel)",
   "language": "python",
   "name": "python3"
  },
  "language_info": {
   "codemirror_mode": {
    "name": "ipython",
    "version": 3
   },
   "file_extension": ".py",
   "mimetype": "text/x-python",
   "name": "python",
   "nbconvert_exporter": "python",
   "pygments_lexer": "ipython3",
   "version": "3.10.4"
  }
 },
 "nbformat": 4,
 "nbformat_minor": 5
}
