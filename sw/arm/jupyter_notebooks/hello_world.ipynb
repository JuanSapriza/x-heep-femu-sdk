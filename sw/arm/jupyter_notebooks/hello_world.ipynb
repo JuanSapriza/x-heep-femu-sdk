{
 "cells": [
  {
   "cell_type": "code",
   "execution_count": 1,
   "id": "63f1eaa7",
   "metadata": {},
   "outputs": [],
   "source": [
    "# Import the X-HEEP Python class\n",
    "from pynq import x_heep"
   ]
  },
  {
   "cell_type": "code",
   "execution_count": 2,
   "id": "2d224b64",
   "metadata": {},
   "outputs": [
    {
     "data": {
      "application/javascript": [
       "\n",
       "try {\n",
       "require(['notebook/js/codecell'], function(codecell) {\n",
       "  codecell.CodeCell.options_default.highlight_modes[\n",
       "      'magic_text/x-csrc'] = {'reg':[/^%%microblaze/]};\n",
       "  Jupyter.notebook.events.one('kernel_ready.Kernel', function(){\n",
       "      Jupyter.notebook.get_cells().map(function(cell){\n",
       "          if (cell.cell_type == 'code'){ cell.auto_highlight(); } }) ;\n",
       "  });\n",
       "});\n",
       "} catch (e) {};\n"
      ]
     },
     "metadata": {},
     "output_type": "display_data"
    },
    {
     "data": {
      "application/javascript": [
       "\n",
       "try {\n",
       "require(['notebook/js/codecell'], function(codecell) {\n",
       "  codecell.CodeCell.options_default.highlight_modes[\n",
       "      'magic_text/x-csrc'] = {'reg':[/^%%pybind11/]};\n",
       "  Jupyter.notebook.events.one('kernel_ready.Kernel', function(){\n",
       "      Jupyter.notebook.get_cells().map(function(cell){\n",
       "          if (cell.cell_type == 'code'){ cell.auto_highlight(); } }) ;\n",
       "  });\n",
       "});\n",
       "} catch (e) {};\n"
      ]
     },
     "metadata": {},
     "output_type": "display_data"
    }
   ],
   "source": [
    "# Load the X-HEEP bitstream\n",
    "x_heep = x_heep()"
   ]
  },
  {
   "cell_type": "code",
   "execution_count": 6,
   "id": "d6af7d95",
   "metadata": {},
   "outputs": [
    {
     "name": "stdout",
     "output_type": "stream",
     "text": [
      "rm -rf build\n",
      "/tools/riscv/bin/riscv32-unknown-elf-gcc -march=rv32imc -o apps/hello_world/hello_world.elf -w -Os -g -nostdlib \\\n",
      "\t \\\n",
      "\t-DHOST_BUILD \\\n",
      "\t-T link/link.ld \\\n",
      "\t-I /tools/riscv/riscv32-unknown-elf/include \\\n",
      "\t-I lib/target/ -I lib/base/ -I lib/hal/dma/ -I lib/hal/fast_intr_ctrl/ -I lib/hal/gpio/ -I lib/hal/i2c/ -I lib/hal/pad_control/ -I lib/hal/power_manager/ -I lib/hal/rv_plic/ -I lib/hal/rv_timer/ -I lib/hal/soc_ctrl/ -I lib/hal/spi_host/ -I lib/hal/spi_memio/ -I lib/hal/uart/ -I lib/runtime/ \\\n",
      "\t-static \\\n",
      "\tlib/crt/crt0.S lib/crt/vectors.S \\\n",
      "\tapps/hello_world/hello_world.c lib/runtime/handler.c lib/runtime/init.c lib/runtime/syscalls.c \\\n",
      "\tlib/base/bitfield.c lib/base/memory.c lib/base/mmio.c \\\n",
      "\tlib/hal/soc_ctrl/soc_ctrl.c lib/hal/uart/uart.c lib/hal/rv_plic/rv_plic.c lib/hal/rv_timer/rv_timer.c lib/hal/gpio/gpio.c lib/hal/i2c/i2c.c lib/hal/dma/dma.c lib/hal/power_manager/power_manager.c lib/hal/fast_intr_ctrl/fast_intr_ctrl.c   lib/hal/spi_host/spi_host.c lib/hal/pad_control/pad_control.c \\\n",
      "\t-Wl,-Map=apps/hello_world/hello_world.map \\\n",
      "\t-L /tools/riscv/riscv32-unknown-elf/lib \\\n",
      "\t-lc -lm -lgcc -flto -ffunction-sections -fdata-sections -specs=nano.specs\n",
      "/tools/riscv/bin/riscv32-unknown-elf-objcopy -O binary apps/hello_world/hello_world.elf apps/hello_world/hello_world.bin\n",
      "/tools/riscv/bin/riscv32-unknown-elf-objdump -S apps/hello_world/hello_world.elf > apps/hello_world/hello_world.dis\n"
     ]
    }
   ],
   "source": [
    "# Compile the application\n",
    "x_heep.compile_app(\"hello_world\")"
   ]
  },
  {
   "cell_type": "code",
   "execution_count": 22,
   "id": "fd8e74c7",
   "metadata": {},
   "outputs": [
    {
     "name": "stdout",
     "output_type": "stream",
     "text": [
      "\n",
      "--- APPLICATION OUTPUT ---\n",
      "\n",
      "Hello World!\n",
      "\r\n"
     ]
    }
   ],
   "source": [
    "# Run the application\n",
    "x_heep.run_app()"
   ]
  },
  {
   "cell_type": "code",
   "execution_count": 21,
   "id": "bcb546f2",
   "metadata": {},
   "outputs": [],
   "source": [
    "x_heep.set_gpio_1()"
   ]
  },
  {
   "cell_type": "code",
   "execution_count": 20,
   "id": "22f5a956",
   "metadata": {},
   "outputs": [],
   "source": [
    "x_heep.set_gpio_0()"
   ]
  },
  {
   "cell_type": "code",
   "execution_count": null,
   "id": "3371341b",
   "metadata": {},
   "outputs": [],
   "source": []
  }
 ],
 "metadata": {
  "kernelspec": {
   "display_name": "Python 3 (ipykernel)",
   "language": "python",
   "name": "python3"
  },
  "language_info": {
   "codemirror_mode": {
    "name": "ipython",
    "version": 3
   },
   "file_extension": ".py",
   "mimetype": "text/x-python",
   "name": "python",
   "nbconvert_exporter": "python",
   "pygments_lexer": "ipython3",
   "version": "3.10.4"
  }
 },
 "nbformat": 4,
 "nbformat_minor": 5
}
