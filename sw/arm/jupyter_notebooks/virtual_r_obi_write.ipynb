{
 "cells": [
  {
   "cell_type": "code",
   "execution_count": 1,
   "id": "63f1eaa7",
   "metadata": {},
   "outputs": [],
   "source": [
    "# Import the X-HEEP Python class\n",
    "from pynq import x_heep"
   ]
  },
  {
   "cell_type": "code",
   "execution_count": 2,
   "id": "2d224b64",
   "metadata": {},
   "outputs": [
    {
     "data": {
      "application/javascript": [
       "\n",
       "try {\n",
       "require(['notebook/js/codecell'], function(codecell) {\n",
       "  codecell.CodeCell.options_default.highlight_modes[\n",
       "      'magic_text/x-csrc'] = {'reg':[/^%%microblaze/]};\n",
       "  Jupyter.notebook.events.one('kernel_ready.Kernel', function(){\n",
       "      Jupyter.notebook.get_cells().map(function(cell){\n",
       "          if (cell.cell_type == 'code'){ cell.auto_highlight(); } }) ;\n",
       "  });\n",
       "});\n",
       "} catch (e) {};\n"
      ]
     },
     "metadata": {},
     "output_type": "display_data"
    },
    {
     "data": {
      "application/javascript": [
       "\n",
       "try {\n",
       "require(['notebook/js/codecell'], function(codecell) {\n",
       "  codecell.CodeCell.options_default.highlight_modes[\n",
       "      'magic_text/x-csrc'] = {'reg':[/^%%pybind11/]};\n",
       "  Jupyter.notebook.events.one('kernel_ready.Kernel', function(){\n",
       "      Jupyter.notebook.get_cells().map(function(cell){\n",
       "          if (cell.cell_type == 'code'){ cell.auto_highlight(); } }) ;\n",
       "  });\n",
       "});\n",
       "} catch (e) {};\n"
      ]
     },
     "metadata": {},
     "output_type": "display_data"
    }
   ],
   "source": [
    "# Load the X-HEEP bitstream\n",
    "x_heep = x_heep()"
   ]
  },
  {
   "cell_type": "code",
   "execution_count": 3,
   "id": "d6af7d95",
   "metadata": {},
   "outputs": [
    {
     "name": "stdout",
     "output_type": "stream",
     "text": [
      "65536\n"
     ]
    }
   ],
   "source": [
    "x_heep.init_r_obi()"
   ]
  },
  {
   "cell_type": "code",
   "execution_count": 4,
   "id": "75a905c1",
   "metadata": {},
   "outputs": [
    {
     "name": "stdout",
     "output_type": "stream",
     "text": [
      "First num: 0x0\n",
      "Second num: 0x30012\n",
      "First num: 0x30012\n",
      "Second num: 0x30012\n",
      "First num: 0x0\n",
      "Second num: 0x30012\n",
      "First num: 0x0\n",
      "Second num: 0x20001\n",
      "First num: 0x20001\n",
      "Second num: 0x30012\n",
      "First num: 0x20001\n",
      "Second num: 0x30012\n",
      "First num: 0x20001\n",
      "Second num: 0x30012\n",
      "First num: 0x30012\n",
      "Second num: 0x30012\n",
      "First num: 0x20001\n",
      "Second num: 0x30012\n",
      "First num: 0x20001\n",
      "Second num: 0x30012\n"
     ]
    }
   ],
   "source": [
    "for a in range(10):\n",
    "    x_heep.write_r_obi()"
   ]
  },
  {
   "cell_type": "code",
   "execution_count": null,
   "id": "4bb1ce24",
   "metadata": {},
   "outputs": [],
   "source": []
  },
  {
   "cell_type": "code",
   "execution_count": null,
   "id": "d60a78a3",
   "metadata": {},
   "outputs": [],
   "source": []
  }
 ],
 "metadata": {
  "kernelspec": {
   "display_name": "Python 3 (ipykernel)",
   "language": "python",
   "name": "python3"
  },
  "language_info": {
   "codemirror_mode": {
    "name": "ipython",
    "version": 3
   },
   "file_extension": ".py",
   "mimetype": "text/x-python",
   "name": "python",
   "nbconvert_exporter": "python",
   "pygments_lexer": "ipython3",
   "version": "3.10.4"
  }
 },
 "nbformat": 4,
 "nbformat_minor": 5
}
