{
 "cells": [
  {
   "cell_type": "code",
   "execution_count": 1,
   "id": "130811ea",
   "metadata": {
    "scrolled": true
   },
   "outputs": [],
   "source": [
    "# Import the X-HEEP Python class\n",
    "from pynq import x_heep"
   ]
  },
  {
   "cell_type": "code",
   "execution_count": 2,
   "id": "e11233ef",
   "metadata": {
    "scrolled": true
   },
   "outputs": [
    {
     "data": {
      "application/javascript": "\ntry {\nrequire(['notebook/js/codecell'], function(codecell) {\n  codecell.CodeCell.options_default.highlight_modes[\n      'magic_text/x-csrc'] = {'reg':[/^%%microblaze/]};\n  Jupyter.notebook.events.one('kernel_ready.Kernel', function(){\n      Jupyter.notebook.get_cells().map(function(cell){\n          if (cell.cell_type == 'code'){ cell.auto_highlight(); } }) ;\n  });\n});\n} catch (e) {};\n"
     },
     "metadata": {},
     "output_type": "display_data"
    },
    {
     "data": {
      "application/javascript": "\ntry {\nrequire(['notebook/js/codecell'], function(codecell) {\n  codecell.CodeCell.options_default.highlight_modes[\n      'magic_text/x-csrc'] = {'reg':[/^%%pybind11/]};\n  Jupyter.notebook.events.one('kernel_ready.Kernel', function(){\n      Jupyter.notebook.get_cells().map(function(cell){\n          if (cell.cell_type == 'code'){ cell.auto_highlight(); } }) ;\n  });\n});\n} catch (e) {};\n"
     },
     "metadata": {},
     "output_type": "display_data"
    }
   ],
   "source": [
    "# Load the X-HEEP bitstream\n",
    "x_heep = x_heep()"
   ]
  },
  {
   "cell_type": "code",
   "execution_count": 3,
   "id": "c3a0bfee",
   "metadata": {
    "scrolled": true
   },
   "outputs": [
    {
     "name": "stdout",
     "output_type": "stream",
     "text": [
      "✅ Compile SUCCESS\n"
     ]
    }
   ],
   "source": [
    "# Compile the application\n",
    "x_heep.compile_app(\"virtual_adc_write\");"
   ]
  },
  {
   "cell_type": "code",
   "execution_count": 4,
   "id": "cad7c03b",
   "metadata": {},
   "outputs": [],
   "source": [
    "# Init the ADC memory\n",
    "adc = x_heep.init_adc_mem()"
   ]
  },
  {
   "cell_type": "code",
   "execution_count": 5,
   "id": "83ad80fc",
   "metadata": {},
   "outputs": [],
   "source": [
    "# Reset the ADC memory\n",
    "x_heep.reset_adc_mem(adc)"
   ]
  },
  {
   "cell_type": "code",
   "execution_count": 6,
   "id": "9c5429d6",
   "metadata": {},
   "outputs": [
    {
     "name": "stdout",
     "output_type": "stream",
     "text": [
      "Done.\n",
      "✅ Return SUCCESS\n",
      " \n",
      "\r"
     ]
    }
   ],
   "source": [
    "out, _ = x_heep.run_app(verbose=True)       # Run the application (disregarding the error output)"
   ]
  },
  {
   "cell_type": "code",
   "execution_count": 7,
   "id": "06ca032b",
   "metadata": {},
   "outputs": [],
   "source": [
    "# Read the ADC memory\n",
    "x_heep.read_adc_mem(adc)"
   ]
  },
  {
   "cell_type": "code",
   "execution_count": 8,
   "id": "2917156a",
   "metadata": {},
   "outputs": [],
   "source": [
    "# Delete adc\n",
    "del adc"
   ]
  }
 ],
 "metadata": {
  "kernelspec": {
   "display_name": "Python 3 (ipykernel)",
   "language": "python",
   "name": "python3"
  },
  "language_info": {
   "codemirror_mode": {
    "name": "ipython",
    "version": 3
   },
   "file_extension": ".py",
   "mimetype": "text/x-python",
   "name": "python",
   "nbconvert_exporter": "python",
   "pygments_lexer": "ipython3",
   "version": "3.10.4"
  }
 },
 "nbformat": 4,
 "nbformat_minor": 5
}
