{
 "cells": [
  {
   "cell_type": "code",
   "execution_count": null,
   "id": "130811ea",
   "metadata": {
    "scrolled": true
   },
   "outputs": [],
   "source": [
    "# Import the X-HEEP Python class\n",
    "from pynq import x_heep"
   ]
  },
  {
   "cell_type": "code",
   "execution_count": null,
   "id": "e11233ef",
   "metadata": {
    "scrolled": true
   },
   "outputs": [],
   "source": [
    "# Load the X-HEEP bitstream\n",
    "x_heep = x_heep()"
   ]
  },
  {
   "cell_type": "code",
   "execution_count": null,
   "id": "c3a0bfee",
   "metadata": {
    "scrolled": true
   },
   "outputs": [],
   "source": [
    "# Compile the application\n",
    "x_heep.compile_app(\"virtual_adc_write\")"
   ]
  },
  {
   "cell_type": "code",
   "execution_count": null,
   "id": "cad7c03b",
   "metadata": {},
   "outputs": [],
   "source": [
    "# Init the ADC memory\n",
    "adc = x_heep.init_adc_mem()"
   ]
  },
  {
   "cell_type": "code",
   "execution_count": null,
   "id": "83ad80fc",
   "metadata": {},
   "outputs": [],
   "source": [
    "# Reset the ADC memory\n",
    "x_heep.reset_adc_mem(adc)"
   ]
  },
  {
   "cell_type": "code",
   "execution_count": null,
   "id": "9c5429d6",
   "metadata": {},
   "outputs": [],
   "source": [
    "# Run the application\n",
    "x_heep.run_app()"
   ]
  },
  {
   "cell_type": "code",
   "execution_count": null,
   "id": "06ca032b",
   "metadata": {},
   "outputs": [],
   "source": [
    "# Read the ADC memory\n",
    "x_heep.read_adc_mem(adc)"
   ]
  },
  {
   "cell_type": "code",
   "execution_count": null,
   "id": "2917156a",
   "metadata": {},
   "outputs": [],
   "source": [
    "# Delete adc\n",
    "del adc"
   ]
  },
  {
   "cell_type": "code",
   "execution_count": null,
   "id": "dc07b33f",
   "metadata": {},
   "outputs": [],
   "source": [
    "# Verify the output\n",
    "file_expected = open(\"/home/xilinx/x-heep-femu-sdk/sw/riscv/build/adc_out.bin\", mode=\"rb\")\n",
    "expected_byte = file_expected.read()\n",
    "\n",
    "allEqual = True\n",
    "for i in range(32):\n",
    "    written = int((expected_byte[i*4] << 24) | (expected_byte[i*4+1] << 16) | (expected_byte[i*4+2] << 8) | expected_byte[i*4+3])\n",
    "    if written != i:\n",
    "        allEqual = False\n",
    "        break\n",
    "\n",
    "if allEqual:\n",
    "    print(\"Test Passed!\")\n",
    "else:\n",
    "    print(\"Test Failed!\")"
   ]
  }
 ],
 "metadata": {
  "kernelspec": {
   "display_name": "Python 3 (ipykernel)",
   "language": "python",
   "name": "python3"
  },
  "language_info": {
   "codemirror_mode": {
    "name": "ipython",
    "version": 3
   },
   "file_extension": ".py",
   "mimetype": "text/x-python",
   "name": "python",
   "nbconvert_exporter": "python",
   "pygments_lexer": "ipython3",
   "version": "3.10.4"
  }
 },
 "nbformat": 4,
 "nbformat_minor": 5
}
