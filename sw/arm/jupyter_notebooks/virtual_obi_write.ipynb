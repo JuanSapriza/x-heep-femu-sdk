{
 "cells": [
  {
   "cell_type": "code",
   "execution_count": null,
   "id": "63f1eaa7",
   "metadata": {},
   "outputs": [],
   "source": [
    "# Import the X-HEEP Python class\n",
    "from pynq import x_heep"
   ]
  },
  {
   "cell_type": "code",
   "execution_count": null,
   "id": "2d224b64",
   "metadata": {},
   "outputs": [],
   "source": [
    "# Load the X-HEEP bitstream\n",
    "x_heep = x_heep()"
   ]
  },
  {
   "cell_type": "code",
   "execution_count": null,
   "id": "d6af7d95",
   "metadata": {},
   "outputs": [],
   "source": [
    "# Compile the application\n",
    "x_heep.compile_app(\"virtual_obi_write\")"
   ]
  },
  {
   "cell_type": "code",
   "execution_count": null,
   "id": "75a905c1",
   "metadata": {},
   "outputs": [],
   "source": [
    "#Initialize the OBI\n",
    "obi = x_heep.init_obi()"
   ]
  },
  {
   "cell_type": "code",
   "execution_count": null,
   "id": "35615647",
   "metadata": {},
   "outputs": [],
   "source": [
    "#Reset the OBI\n",
    "x_heep.reset_obi(obi)"
   ]
  },
  {
   "cell_type": "code",
   "execution_count": null,
   "id": "2f6a9c40",
   "metadata": {},
   "outputs": [],
   "source": [
    "#Check if the memory is resetted to zeros\n",
    "obi_read = x_heep.read_obi(obi)"
   ]
  },
  {
   "cell_type": "code",
   "execution_count": null,
   "id": "fd8e74c7",
   "metadata": {},
   "outputs": [],
   "source": [
    "# Run the application\n",
    "x_heep.run_app()"
   ]
  },
  {
   "cell_type": "code",
   "execution_count": null,
   "id": "b9065ea6",
   "metadata": {},
   "outputs": [],
   "source": [
    "#Read the memory and compare with what is expected\n",
    "obi_read = x_heep.read_obi(obi)\n",
    "target_read = list()\n",
    "for i in range(1024):\n",
    "    target_read.append(i ** 2)\n",
    "#print(target_read)\n",
    "if target_read == obi_read:\n",
    "    print(\"Arrays matching! Write from RISCV Successful.\")"
   ]
  },
  {
   "cell_type": "code",
   "execution_count": null,
   "id": "4e507c63",
   "metadata": {},
   "outputs": [],
   "source": [
    "# Delete OBI\n",
    "del obi"
   ]
  },
  {
   "cell_type": "code",
   "execution_count": null,
   "id": "c514a7ec",
   "metadata": {},
   "outputs": [],
   "source": []
  }
 ],
 "metadata": {
  "kernelspec": {
   "display_name": "Python 3 (ipykernel)",
   "language": "python",
   "name": "python3"
  },
  "language_info": {
   "codemirror_mode": {
    "name": "ipython",
    "version": 3
   },
   "file_extension": ".py",
   "mimetype": "text/x-python",
   "name": "python",
   "nbconvert_exporter": "python",
   "pygments_lexer": "ipython3",
   "version": "3.10.4"
  }
 },
 "nbformat": 4,
 "nbformat_minor": 5
}
