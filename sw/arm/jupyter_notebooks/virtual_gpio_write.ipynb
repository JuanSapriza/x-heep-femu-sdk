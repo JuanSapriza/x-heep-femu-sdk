{
 "cells": [
  {
   "cell_type": "code",
   "execution_count": null,
   "id": "63f1eaa7",
   "metadata": {},
   "outputs": [],
   "source": [
    "# Import the X-HEEP Python class\n",
    "from pynq import x_heep\n",
    "import random"
   ]
  },
  {
   "cell_type": "code",
   "execution_count": null,
   "id": "2d224b64",
   "metadata": {},
   "outputs": [],
   "source": [
    "# Load the X-HEEP bitstream\n",
    "x_heep = x_heep()"
   ]
  },
  {
   "cell_type": "code",
   "execution_count": null,
   "id": "ca0ccd29",
   "metadata": {},
   "outputs": [],
   "source": [
    "\"\"\"\n",
    "#Create a random bit array and write to GPIO ports\n",
    "final_bit_array = \"\"\n",
    "for gpio_pin in range(30):\n",
    "    random_bit = random.randint(0, 1)\n",
    "    final_bit_array += str(random_bit)\n",
    "    x_heep.GPIO_write(random_bit, gpio_pin)\n",
    "\"\"\""
   ]
  },
  {
   "cell_type": "code",
   "execution_count": null,
   "id": "d6af7d95",
   "metadata": {},
   "outputs": [],
   "source": [
    "# Compile the application\n",
    "x_heep.compile_app(\"virtual_gpio_write\")"
   ]
  },
  {
   "cell_type": "code",
   "execution_count": null,
   "id": "fd8e74c7",
   "metadata": {},
   "outputs": [],
   "source": [
    "# Run the application\n",
    "x_heep.run_app()"
   ]
  },
  {
   "cell_type": "code",
   "execution_count": null,
   "id": "4fbcd989",
   "metadata": {},
   "outputs": [],
   "source": [
    "bit_array_read = \"\"\n",
    "for gpio_pin in range(30):\n",
    "    pin_read = x_heep.GPIO_read(gpio_pin)\n",
    "    bit_array_read += str(pin_read)\n",
    "print(bit_array_read)\n",
    "print(len(bit_array_read))"
   ]
  },
  {
   "cell_type": "code",
   "execution_count": null,
   "id": "21d984d2",
   "metadata": {},
   "outputs": [],
   "source": [
    "for a in range(30):\n",
    "    print(x_heep.GPIO_read(a))"
   ]
  },
  {
   "cell_type": "code",
   "execution_count": null,
   "id": "4ce20521",
   "metadata": {},
   "outputs": [],
   "source": []
  }
 ],
 "metadata": {
  "kernelspec": {
   "display_name": "Python 3 (ipykernel)",
   "language": "python",
   "name": "python3"
  },
  "language_info": {
   "codemirror_mode": {
    "name": "ipython",
    "version": 3
   },
   "file_extension": ".py",
   "mimetype": "text/x-python",
   "name": "python",
   "nbconvert_exporter": "python",
   "pygments_lexer": "ipython3",
   "version": "3.10.4"
  }
 },
 "nbformat": 4,
 "nbformat_minor": 5
}
